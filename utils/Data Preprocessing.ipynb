{
 "cells": [
  {
   "cell_type": "code",
   "execution_count": 1,
   "metadata": {},
   "outputs": [],
   "source": [
    "import numpy as np\n",
    "import pandas as pd\n",
    "\n",
    "pd.set_option('display.max_columns', None)"
   ]
  },
  {
   "cell_type": "code",
   "execution_count": 2,
   "metadata": {},
   "outputs": [],
   "source": [
    "raw_file = '../data/raw.csv'\n",
    "results_file = '../data/results.csv'"
   ]
  },
  {
   "cell_type": "code",
   "execution_count": 3,
   "metadata": {},
   "outputs": [],
   "source": [
    "df = pd.read_csv(raw_file)"
   ]
  },
  {
   "cell_type": "code",
   "execution_count": 4,
   "metadata": {},
   "outputs": [],
   "source": [
    "df.columns =  ['timestamp', 'email', 'gender', 'location', 'is_international', 'ethnicity', \n",
    "         # Background\n",
    "         'parents_edu', 'parents_technical', 'family_income', 'admission_avg', 'hs_extras',\n",
    "         # Coding\n",
    "         'code_start_age', 'fav_lang', 'text_editor', 'work_os', 'phone', 'num_hackathons', 'side_proj', \n",
    "         # Jobs\n",
    "         'coop_name_1', 'coop_salary_1', 'coop_loc_1',\n",
    "         'coop_name_2', 'coop_salary_2', 'coop_loc_2',\n",
    "         'coop_name_3', 'coop_salary_3', 'coop_loc_3',\n",
    "         'coop_name_4', 'coop_salary_4', 'coop_loc_4',\n",
    "         'coop_name_5', 'coop_salary_5', 'coop_loc_5',\n",
    "         'coop_name_6', 'coop_salary_6', 'coop_loc_6',\n",
    "         'fav_coop', 'ft_status',\n",
    "         # Lifestyle\n",
    "         'exercise', 'cooking', 'sleep_time', \n",
    "         # School\n",
    "         'uni_extras', 'is_se_orig', 'fav_course', 'least_fav_course', 'num_courses_failed', \n",
    "         'term_avg_1a', 'class_attendance_1a',\n",
    "         'term_avg_1b', 'class_attendance_1b',\n",
    "         'term_avg_2a', 'class_attendance_2a',\n",
    "         'term_avg_2b', 'class_attendance_2b',\n",
    "         'term_avg_3a', 'class_attendance_3a',\n",
    "         'term_avg_3b', 'class_attendance_3b',\n",
    "         'term_avg_4a', 'class_attendance_4a',\n",
    "         'hardest_term', 'easiest_term', 'preferred_program', 'soft_eng_rating',\n",
    "         # Future\n",
    "         'preferred_company_size', 'work_loc', 'se_friendships', 'career_motives', 'grad_school', 'num_years_soft_eng',\n",
    "         'preferred_tech_discipline', 'school_debt', 'se_advice'\n",
    "        ]"
   ]
  },
  {
   "cell_type": "code",
   "execution_count": 5,
   "metadata": {},
   "outputs": [],
   "source": [
    "def get_valid_coop_salaries(row):\n",
    "    salaries = np.array(row[['coop_salary_1', 'coop_salary_2', 'coop_salary_3', \n",
    "                'coop_salary_4', 'coop_salary_5', 'coop_salary_6']], dtype=np.float32)\n",
    "    return [max(0, min(100000, x)) for x in salaries]\n",
    "\n",
    "def compute_coop_avg(row):\n",
    "    return np.mean(get_valid_coop_salaries(row))\n",
    "\n",
    "def compute_coop_median(row):\n",
    "    return np.median(get_valid_coop_salaries(row))\n",
    "\n",
    "df['coop_salary_avg'] = df.apply(compute_coop_avg, axis=1)\n",
    "df['coop_salary_median'] = df.apply(compute_coop_median, axis=1)"
   ]
  },
  {
   "cell_type": "code",
   "execution_count": 6,
   "metadata": {},
   "outputs": [
    {
     "name": "stderr",
     "output_type": "stream",
     "text": [
      "/Users/chris/Projects/se-2018-class-profile/env/lib/python2.7/site-packages/pandas/core/series.py:705: FutureWarning: \n",
      "Passing list-likes to .loc or [] with any missing label will raise\n",
      "KeyError in the future, you can use .reindex() as an alternative.\n",
      "\n",
      "See the documentation here:\n",
      "http://pandas.pydata.org/pandas-docs/stable/indexing.html#deprecate-loc-reindex-listlike\n",
      "  return self.loc[key]\n"
     ]
    }
   ],
   "source": [
    "def get_valid_term_grade_avgs(row):\n",
    "    avgs = np.array(row[['term_avg_1a', 'term_avg_1b', 'term_avg_2a', 'term_avg_2b'\n",
    "                'term_avg_3a', 'term_avg_3b', 'term_avg_4a']], dtype=np.float32)\n",
    "    return [max(0, min(100, x)) for x in avgs]\n",
    "\n",
    "def compute_culm_grade_avg(row):\n",
    "    return np.mean(get_valid_term_grade_avgs(row))\n",
    "\n",
    "def compute_culm_grade_median(row):\n",
    "    return np.median(get_valid_term_grade_avgs(row))\n",
    "\n",
    "df['culm_grade_avg'] = df.apply(compute_culm_grade_avg, axis=1)\n",
    "df['culm_grade_median'] = df.apply(compute_culm_grade_median, axis=1)"
   ]
  },
  {
   "cell_type": "code",
   "execution_count": 7,
   "metadata": {},
   "outputs": [],
   "source": [
    "def round_admission_avg(x):\n",
    "    x = min(100, max(70, x))\n",
    "    return int(round(x))\n",
    "\n",
    "df['rounded_admission_avg'] = df['admission_avg'].apply(round_admission_avg)"
   ]
  },
  {
   "cell_type": "code",
   "execution_count": 8,
   "metadata": {},
   "outputs": [],
   "source": [
    "df.to_csv(results_file)"
   ]
  },
  {
   "cell_type": "code",
   "execution_count": null,
   "metadata": {},
   "outputs": [],
   "source": []
  }
 ],
 "metadata": {
  "kernelspec": {
   "display_name": "Python 2",
   "language": "python",
   "name": "python2"
  },
  "language_info": {
   "codemirror_mode": {
    "name": "ipython",
    "version": 2
   },
   "file_extension": ".py",
   "mimetype": "text/x-python",
   "name": "python",
   "nbconvert_exporter": "python",
   "pygments_lexer": "ipython2",
   "version": "2.7.10"
  }
 },
 "nbformat": 4,
 "nbformat_minor": 2
}
