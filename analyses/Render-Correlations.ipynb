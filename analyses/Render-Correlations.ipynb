{
 "cells": [
  {
   "cell_type": "code",
   "execution_count": 1,
   "metadata": {},
   "outputs": [],
   "source": [
    "from Bucket import Bucket\n",
    "import os\n",
    "import json\n",
    "\n",
    "%matplotlib inline\n",
    "\n",
    "import matplotlib\n",
    "import numpy as np\n",
    "import matplotlib.pyplot as plt"
   ]
  },
  {
   "cell_type": "code",
   "execution_count": 2,
   "metadata": {},
   "outputs": [],
   "source": [
    "bucket_path = '../private/result-buckets/'\n",
    "grade_vs_salary = '../private/grade-vs-salary.json'\n",
    "grade_vs_attendance = '../private/grade-vs-attendance.json'\n",
    "TERM = ['1a', '1b', '2a', '2b', '3a', '3b', '4a']"
   ]
  },
  {
   "cell_type": "code",
   "execution_count": 3,
   "metadata": {},
   "outputs": [],
   "source": [
    "def process_file(filename):\n",
    "    with open(bucket_path + filename, 'r') as f:\n",
    "        f = json.loads(f.read())\n",
    "        b = Bucket.create_from_bucket(filename.replace('_buckets.json', ''), f)\n",
    "        render_file(b)"
   ]
  },
  {
   "cell_type": "code",
   "execution_count": 4,
   "metadata": {},
   "outputs": [],
   "source": [
    "def render_file(b):\n",
    "    fig = plt.figure(figsize=(18, 16))    \n",
    "    \n",
    "    ax1 = fig.add_subplot(211)\n",
    "    cols = []\n",
    "    for val in b:\n",
    "        if type(b[val]) == dict and 'message' in b[val]:\n",
    "            continue\n",
    "        cols.append(val)\n",
    "        salaries = []\n",
    "\n",
    "        salaries = [s.mean() for s in b[val].salaries]\n",
    "        ax1.plot([1, 2, 3, 4, 5, 6], salaries) # add 7 for term\n",
    "    ax1.legend(cols, loc='upper left')\n",
    "#    plt.show()"
   ]
  },
  {
   "cell_type": "code",
   "execution_count": 5,
   "metadata": {
    "scrolled": false
   },
   "outputs": [],
   "source": [
    "for i in os.listdir(bucket_path):\n",
    "    if i.startswith('.'):\n",
    "        continue\n",
    "#    process_file(i)"
   ]
  },
  {
   "cell_type": "code",
   "execution_count": 6,
   "metadata": {},
   "outputs": [],
   "source": [
    "def render_grade_vs_salary(data, term, axis='cumulative_avg'):\n",
    "    \"\"\"Creates a scatter plot of the data of a term.\n",
    "    \n",
    "    `axis` represents the x axis that's plotted against salary.\n",
    "    \"\"\"\n",
    "    x = []\n",
    "    y = []\n",
    "    for salary in data:\n",
    "        for item in data[salary]:\n",
    "            x.append(item[axis])\n",
    "            y.append(item['result_salary'])\n",
    "    plt.xlim(60, 100)\n",
    "    plt.scatter(x, y)\n",
    "    print('Term: ' + term)\n",
    "    print(np.corrcoef(x, y)[0, 1])\n",
    "    plt.title('Cumulative average vs Salary, ' + str(term) + 'th coop')\n",
    "    plt.show()"
   ]
  },
  {
   "cell_type": "code",
   "execution_count": 7,
   "metadata": {
    "scrolled": false
   },
   "outputs": [],
   "source": [
    "with open(grade_vs_salary, 'r') as f:\n",
    "    data = json.loads(f.read())\n",
    "    for term in range(1, len(data)+1):\n",
    "        pass\n",
    "#        render_grade_vs_salary(data[str(term)], str(term))"
   ]
  },
  {
   "cell_type": "code",
   "execution_count": 8,
   "metadata": {},
   "outputs": [],
   "source": [
    "from scipy.interpolate import interp1d\n",
    "import math"
   ]
  },
  {
   "cell_type": "code",
   "execution_count": 9,
   "metadata": {},
   "outputs": [],
   "source": [
    "def render_grade_vs_attendance(data, term):\n",
    "    x = []\n",
    "    y = []\n",
    "    legend = []\n",
    "    legend_values = {\n",
    "        '4': 'Attends almost all classes',\n",
    "        '3': 'Attends most classes',\n",
    "        '2': 'Sometimes attends class',\n",
    "        '1': 'Rarely attends class'\n",
    "    }\n",
    "    max_val = []\n",
    "    for i in range(1, 5):\n",
    "        rating = data.get(str(i), [])\n",
    "        grades = [0] * 6\n",
    "        for g in rating:\n",
    "            if g < 60 or g == 'exchange':\n",
    "                continue\n",
    "            index = int(math.floor((float(g) - 60) / (40.0 / 6))) # Normalize to range 0-7\n",
    "            grades[index] += 1\n",
    "        if sum(grades) < 5:\n",
    "            continue\n",
    "        legend.append(legend_values[str(i)])\n",
    "        grades = list(map(lambda x: float(x) / sum(grades) * 100, grades))\n",
    "\n",
    "        x = [num for num in range(60, 100, 7)]\n",
    "        f = interp1d(x, grades, kind='cubic', fill_value='extrapolate')\n",
    "        xnew = np.linspace(63, 100, num=40)\n",
    "        max_val.append(max(f(xnew)))\n",
    "        plt.plot(xnew, f(xnew))\n",
    "        \n",
    "    plt.xlim(60, 100)\n",
    "    plt.ylim(0, 60)\n",
    "    plt.legend(legend)\n",
    "    plt.title('Attendance vs Term Average, ' + TERM[term])\n",
    "    plt.show()"
   ]
  },
  {
   "cell_type": "code",
   "execution_count": 10,
   "metadata": {
    "scrolled": false
   },
   "outputs": [],
   "source": [
    "with open(grade_vs_attendance, 'r') as f:\n",
    "    data = json.loads(f.read())\n",
    "    for i, t in enumerate(TERM):\n",
    "        pass\n",
    "#        render_grade_vs_attendance(data[t], i)"
   ]
  },
  {
   "cell_type": "markdown",
   "metadata": {},
   "source": [
    "## Performing an ANOVA of specific data sets."
   ]
  },
  {
   "cell_type": "code",
   "execution_count": 11,
   "metadata": {},
   "outputs": [],
   "source": [
    "import scipy.stats as stats\n",
    "from collections import defaultdict"
   ]
  },
  {
   "cell_type": "code",
   "execution_count": 12,
   "metadata": {},
   "outputs": [
    {
     "data": {
      "text/plain": [
       "F_onewayResult(statistic=7.121019471642447, pvalue=0.0002812242314534544)"
      ]
     },
     "execution_count": 12,
     "metadata": {},
     "output_type": "execute_result"
    }
   ],
   "source": [
    "# Example usage of one-way anova\n",
    "tillamook = [0.0571, 0.0813, 0.0831, 0.0976, 0.0817, 0.0859, 0.0735, 0.0659, 0.0923, 0.0836]\n",
    "newport = [0.0873, 0.0662, 0.0672, 0.0819, 0.0749, 0.0649, 0.0835, 0.0725]\n",
    "petersburg = [0.0974, 0.1352, 0.0817, 0.1016, 0.0968, 0.1064, 0.105]\n",
    "magadan = [0.1033, 0.0915, 0.0781, 0.0685, 0.0677, 0.0697, 0.0764, 0.0689]\n",
    "tvarminne = [0.0703, 0.1026, 0.0956, 0.0973, 0.1039, 0.1045]\n",
    "stats.f_oneway(tillamook, newport, petersburg, magadan, tvarminne)"
   ]
  },
  {
   "cell_type": "markdown",
   "metadata": {},
   "source": [
    "### Coop Correlations\n",
    "- Technical background\n",
    "  - Coding start age\n",
    "  - Hackathons\n",
    "  - side projects \n",
    "- Background\n",
    "  - Parental education\n",
    "  - Admission average\n",
    "  \n",
    "### Academic Correlations:\n",
    "- SE Rating: TODO: do we really want this?\n",
    "- Admission average\n",
    "- Parents education"
   ]
  },
  {
   "cell_type": "code",
   "execution_count": 13,
   "metadata": {},
   "outputs": [],
   "source": [
    "def correlate_code_start_age(content, dv):\n",
    "    \"\"\"dv: dependent variable.\"\"\"\n",
    "    shs = content[dv]\n",
    "    values = defaultdict(list)\n",
    "    values[14].extend(shs['9'])\n",
    "    values[14].extend(shs['10'])\n",
    "    values[14].extend(shs['11'])\n",
    "    values[14].extend(shs['12'])\n",
    "    values[14].extend(shs['13'])\n",
    "    values[14].extend(shs['14'])\n",
    "    values[15].extend(shs['15'])\n",
    "    values[16].extend(shs['16'])\n",
    "    values[17].extend(shs['17'])\n",
    "    values[17].extend(shs['18'])\n",
    "    values[17].extend(shs['19'])\n",
    "\n",
    "    print('CALCULATING ' + dv.upper())\n",
    "    fh = values[14] + values[15]\n",
    "    sh = values[16] + values[17]\n",
    "    print('Ages <=15, >15')\n",
    "    print(stats.f_oneway(fh, sh))\n",
    "    print(stats.kruskal(fh, sh))\n",
    "    print(np.mean(fh), np.mean(sh))\n",
    "    print(np.std(fh), np.std(sh))\n",
    "    print('[Count] Younger than 16: ' + str(len(fh)) + ', At least 16: ' + str(len(sh)))\n",
    "    print('')"
   ]
  },
  {
   "cell_type": "code",
   "execution_count": 32,
   "metadata": {},
   "outputs": [],
   "source": [
    "def extract_range(content, ranges):\n",
    "    result = []\n",
    "    for r in ranges:\n",
    "        current = []\n",
    "\n",
    "        for val in content:\n",
    "            if int(val) > r[0] and int(val) <= r[1]:\n",
    "                current.extend(content[val])\n",
    "        print r, len(current)\n",
    "        result.append(current)\n",
    "    return result"
   ]
  },
  {
   "cell_type": "code",
   "execution_count": 61,
   "metadata": {},
   "outputs": [],
   "source": [
    "def extract_groups(content, groups):\n",
    "    result = []\n",
    "    for r in groups:\n",
    "        current = []\n",
    "\n",
    "        for val in content:\n",
    "            if val.strip() in r:\n",
    "                current.extend(content[val])\n",
    "        print r, len(current)\n",
    "        result.append(current)\n",
    "    return result"
   ]
  },
  {
   "cell_type": "code",
   "execution_count": 57,
   "metadata": {},
   "outputs": [],
   "source": [
    "def dict_to_lol(content):\n",
    "    # list of lists im not a bad programmer\n",
    "    lol = []\n",
    "    for i in content:\n",
    "        lol.append(content[i])\n",
    "    return lol"
   ]
  },
  {
   "cell_type": "code",
   "execution_count": 35,
   "metadata": {},
   "outputs": [],
   "source": [
    "def load_file(col_name):\n",
    "    with open(bucket_path + col_name + '_buckets.json', 'r') as f:\n",
    "        return json.loads(f.read())"
   ]
  },
  {
   "cell_type": "code",
   "execution_count": 36,
   "metadata": {},
   "outputs": [
    {
     "name": "stdout",
     "output_type": "stream",
     "text": [
      "CALCULATING FIRST_HALF_GRADES\n",
      "Ages <=15, >15\n",
      "F_onewayResult(statistic=1.010900093484944, pvalue=0.31693467394518826)\n",
      "KruskalResult(statistic=1.5483371696092163, pvalue=0.21338108763307484)\n",
      "(82.17986842105265, 80.65575471698114)\n",
      "(8.456075056164886, 7.189968404438046)\n",
      "[Count] Younger than 16: 57, At least 16: 53\n",
      "\n",
      "CALCULATING SECOND_HALF_GRADES\n",
      "Ages <=15, >15\n",
      "F_onewayResult(statistic=0.1914648959030756, pvalue=0.6625739819257515)\n",
      "KruskalResult(statistic=0.7318345398624917, pvalue=0.392289188305433)\n",
      "(82.51912280701755, 82.00761006289306)\n",
      "(6.83026278969861, 5.128680460015708)\n",
      "[Count] Younger than 16: 57, At least 16: 53\n",
      "\n",
      "CALCULATING FIRST_HALF_SALARIES\n",
      "Ages <=15, >15\n",
      "F_onewayResult(statistic=0.06361994154330908, pvalue=0.8013427318791513)\n",
      "KruskalResult(statistic=0.07565116830994835, pvalue=0.7832796880126466)\n",
      "(4392.2269220238095, 4302.318388888889)\n",
      "(1753.9082864550207, 1948.2961059310712)\n",
      "[Count] Younger than 16: 56, At least 16: 54\n",
      "\n",
      "CALCULATING SECOND_HALF_SALARIES\n",
      "Ages <=15, >15\n",
      "F_onewayResult(statistic=0.19613130448055516, pvalue=0.6587394924492099)\n",
      "KruskalResult(statistic=0.006822642020213027, pvalue=0.9341701691584164)\n",
      "(8978.894523976607, 8741.554591975308)\n",
      "(2824.0998375886684, 2767.163298663343)\n",
      "[Count] Younger than 16: 57, At least 16: 54\n",
      "\n"
     ]
    }
   ],
   "source": [
    "# Code start age\n",
    "content = load_file('code_start_age')\n",
    "correlate_code_start_age(content, 'first_half_grades')\n",
    "correlate_code_start_age(content, 'second_half_grades')\n",
    "\n",
    "correlate_code_start_age(content, 'first_half_salaries')\n",
    "correlate_code_start_age(content, 'second_half_salaries')\n"
   ]
  },
  {
   "cell_type": "code",
   "execution_count": 37,
   "metadata": {},
   "outputs": [
    {
     "name": "stdout",
     "output_type": "stream",
     "text": [
      "(3952.7395185185187, 5185.204311111112)\n",
      "(1581.5814869176006, 2506.6551798061537)\n",
      "F_onewayResult(statistic=1.0587634091330083, pvalue=0.38755765604710224)\n",
      "KruskalResult(statistic=6.149723557467257, pvalue=0.2919216336846051)\n",
      "\n",
      "(83.84009259259258, 81.16333333333334)\n",
      "(6.473969368909215, 8.963631456552017)\n",
      "F_onewayResult(statistic=0.9565170983552662, pvalue=0.44803479836100524)\n",
      "KruskalResult(statistic=3.7482511908965583, pvalue=0.5862001268550607)\n",
      "\n",
      "(8312.672404938272, 9008.167533333333)\n",
      "(2212.9625380333537, 1856.8817586829546)\n",
      "F_onewayResult(statistic=0.6554010066955458, pvalue=0.6580272706344233)\n",
      "KruskalResult(statistic=3.432691802755236, pvalue=0.6335957839023879)\n",
      "\n",
      "(83.93222222222222, 81.90777777777778)\n",
      "(5.312219472138232, 8.37182060527538)\n",
      "F_onewayResult(statistic=1.6103971954323175, pvalue=0.163678077618645)\n",
      "KruskalResult(statistic=6.2696012299067805, pvalue=0.28086239343933733)\n"
     ]
    }
   ],
   "source": [
    "# Side projects TODO\n",
    "content = load_file('side_proj') \n",
    "\n",
    "fhs = dict_to_lol(content['first_half_salaries'])\n",
    "print(np.mean(fhs[0]), np.mean(fhs[1]))\n",
    "print(np.std(fhs[0]), np.std(fhs[1]))\n",
    "print(stats.f_oneway(*fhs))\n",
    "print(stats.kruskal(*fhs))\n",
    "print('')\n",
    "\n",
    "fhg = dict_to_lol(content['first_half_grades'])\n",
    "print(np.mean(fhg[0]), np.mean(fhg[1]))\n",
    "print(np.std(fhg[0]), np.std(fhg[1]))\n",
    "print(stats.f_oneway(*fhg))\n",
    "print(stats.kruskal(*fhg))\n",
    "print('')\n",
    "\n",
    "shs = dict_to_lol(content['second_half_salaries'])\n",
    "print(np.mean(shs[0]), np.mean(shs[1]))\n",
    "print(np.std(shs[0]), np.std(shs[1]))\n",
    "print(stats.f_oneway(*shs))\n",
    "print(stats.kruskal(*shs))\n",
    "print('')\n",
    "\n",
    "shg = dict_to_lol(content['second_half_grades'])\n",
    "print(np.mean(shg[0]), np.mean(shg[1]))\n",
    "print(np.std(shg[0]), np.std(shg[1]))\n",
    "print(stats.f_oneway(*shg))\n",
    "print(stats.kruskal(*shg))"
   ]
  },
  {
   "cell_type": "code",
   "execution_count": 27,
   "metadata": {},
   "outputs": [
    {
     "name": "stdout",
     "output_type": "stream",
     "text": [
      "(5537.157107692307, 3620.4732982456135)\n",
      "(1882.6430325294552, 1359.6290448299071)\n",
      "F_onewayResult(statistic=3.523430535729713, pvalue=0.017518806488534242)\n",
      "KruskalResult(statistic=10.161950966399605, pvalue=0.017238487854583925)\n",
      "\n",
      "(81.71826923076922, 82.07631578947368)\n",
      "(7.143384808595196, 7.125515464660723)\n",
      "F_onewayResult(statistic=0.11326726272171668, pvalue=0.9521727330904038)\n",
      "KruskalResult(statistic=0.6034201066423299, pvalue=0.8956489736424222)\n",
      "\n",
      "(11055.822387179487, 7693.5659087719305)\n",
      "(3122.9386666187784, 2630.5840371388413)\n",
      "F_onewayResult(statistic=4.392995396528476, pvalue=0.005875469398369296)\n",
      "KruskalResult(statistic=10.735585667253625, pvalue=0.01324505781310595)\n",
      "\n",
      "(84.04974358974358, 83.309649122807)\n",
      "(6.652069591396626, 4.538179800346942)\n",
      "F_onewayResult(statistic=0.9493675473510874, pvalue=0.4195786519865531)\n",
      "KruskalResult(statistic=3.0762206619316683, pvalue=0.38002209300644973)\n"
     ]
    }
   ],
   "source": [
    "# Hackathons TODO\n",
    "content = load_file('num_hackathons')\n",
    "\n",
    "fhs = dict_to_lol(content['first_half_salaries'])\n",
    "print(np.mean(fhs[0]), np.mean(fhs[1]))\n",
    "print(np.std(fhs[0]), np.std(fhs[1]))\n",
    "print(stats.f_oneway(*fhs))\n",
    "print(stats.kruskal(*fhs))\n",
    "print('')\n",
    "\n",
    "fhg = dict_to_lol(content['first_half_grades'])\n",
    "print(np.mean(fhg[0]), np.mean(fhg[1]))\n",
    "print(np.std(fhg[0]), np.std(fhg[1]))\n",
    "print(stats.f_oneway(*fhg))\n",
    "print(stats.kruskal(*fhg))\n",
    "print('')\n",
    "\n",
    "shs = dict_to_lol(content['second_half_salaries'])\n",
    "print(np.mean(shs[0]), np.mean(shs[1]))\n",
    "print(np.std(shs[0]), np.std(shs[1]))\n",
    "print(stats.f_oneway(*shs))\n",
    "print(stats.kruskal(*shs))\n",
    "print('')\n",
    "\n",
    "shg = dict_to_lol(content['second_half_grades'])\n",
    "print(np.mean(shg[0]), np.mean(shg[1]))\n",
    "print(np.std(shg[0]), np.std(shg[1]))\n",
    "print(stats.f_oneway(*shg))\n",
    "print(stats.kruskal(*shg))"
   ]
  },
  {
   "cell_type": "code",
   "execution_count": 20,
   "metadata": {},
   "outputs": [
    {
     "name": "stdout",
     "output_type": "stream",
     "text": [
      "(4760.610567307693, 3966.183352542372)\n",
      "(1946.2807229306638, 1668.2688214650123)\n",
      "F_onewayResult(statistic=5.264325195780167, pvalue=0.02368278260248313)\n",
      "KruskalResult(statistic=6.000394497171199, pvalue=0.014302679946007606)\n",
      "\n",
      "(81.45649038461539, 81.34779661016948)\n",
      "(7.677325885665871, 8.068495177214539)\n",
      "F_onewayResult(statistic=0.005154052497167302, pvalue=0.9428992179194144)\n",
      "KruskalResult(statistic=0.013970123763356521, pvalue=0.9059129312695484)\n",
      "\n",
      "(9294.685413836476, 8480.799020903954)\n",
      "(2494.7104044422586, 2972.730569932684)\n",
      "F_onewayResult(statistic=2.3898903518209593, pvalue=0.12499440610039)\n",
      "KruskalResult(statistic=3.2531050131119477, pvalue=0.07128829325986479)\n",
      "\n",
      "(82.73439102564103, 81.92324858757063)\n",
      "(5.965646417830094, 6.110647929556666)\n",
      "F_onewayResult(statistic=0.4889934458226031, pvalue=0.4858662004008151)\n",
      "KruskalResult(statistic=0.5500847681882083, pvalue=0.4582830599695533)\n"
     ]
    }
   ],
   "source": [
    "# Parents technical\n",
    "content = load_file('parents_technical')\n",
    "\n",
    "fhs = dict_to_lol(content['first_half_salaries'])\n",
    "print(np.mean(fhs[0]), np.mean(fhs[1]))\n",
    "print(np.std(fhs[0]), np.std(fhs[1]))\n",
    "print(stats.f_oneway(*fhs))\n",
    "print(stats.kruskal(*fhs))\n",
    "print('')\n",
    "\n",
    "fhg = dict_to_lol(content['first_half_grades'])\n",
    "print(np.mean(fhg[0]), np.mean(fhg[1]))\n",
    "print(np.std(fhg[0]), np.std(fhg[1]))\n",
    "print(stats.f_oneway(*fhg))\n",
    "print(stats.kruskal(*fhg))\n",
    "print('')\n",
    "\n",
    "shs = dict_to_lol(content['second_half_salaries'])\n",
    "print(np.mean(shs[0]), np.mean(shs[1]))\n",
    "print(np.std(shs[0]), np.std(shs[1]))\n",
    "print(stats.f_oneway(*shs))\n",
    "print(stats.kruskal(*shs))\n",
    "print('')\n",
    "\n",
    "shg = dict_to_lol(content['second_half_grades'])\n",
    "print(np.mean(shg[0]), np.mean(shg[1]))\n",
    "print(np.std(shg[0]), np.std(shg[1]))\n",
    "print(stats.f_oneway(*shg))\n",
    "print(stats.kruskal(*shg))"
   ]
  },
  {
   "cell_type": "code",
   "execution_count": 64,
   "metadata": {},
   "outputs": [
    {
     "name": "stdout",
     "output_type": "stream",
     "text": [
      "['Postsecondary diploma (e.g. college)', 'Some postsecondary', 'High school', 'Did not complete high school'] 17\n",
      "[\"Bachelor's\"] 46\n",
      "[\"Master's/Professional (MD, MBA, etc)\", 'Doctorate'] 48\n",
      "(4479.299049019608, 4452.612265942029, 4178.923317361111)\n",
      "(1830.2882535991687, 1970.2009664951063, 1713.6643670386345)\n",
      "F_onewayResult(statistic=0.3095866416428993, pvalue=0.7343991657991147)\n",
      "KruskalResult(statistic=0.7932489343638668, pvalue=0.6725865565378386)\n",
      "\n",
      "['Postsecondary diploma (e.g. college)', 'Some postsecondary', 'High school', 'Did not complete high school'] 18\n",
      "[\"Bachelor's\"] 46\n",
      "[\"Master's/Professional (MD, MBA, etc)\", 'Doctorate'] 47\n",
      "(79.4673611111111, 80.42891304347825, 83.08755319148936)\n",
      "(9.545717679796347, 8.098610097004801, 6.530707284065745)\n",
      "F_onewayResult(statistic=1.9815719068522817, pvalue=0.14283289280692127)\n",
      "KruskalResult(statistic=2.5221067260048957, pvalue=0.2833553931550314)\n",
      "\n",
      "['Postsecondary diploma (e.g. college)', 'Some postsecondary', 'High school', 'Did not complete high school'] 18\n",
      "[\"Bachelor's\"] 46\n",
      "[\"Master's/Professional (MD, MBA, etc)\", 'Doctorate'] 48\n",
      "(8039.532709259259, 8683.152322463768, 9351.018199305556)\n",
      "(2476.177082112645, 3080.324248465265, 2490.722929281679)\n",
      "F_onewayResult(statistic=1.621200470352993, pvalue=0.2023906631033062)\n",
      "KruskalResult(statistic=2.710135102983126, pvalue=0.25792987031586057)\n",
      "\n",
      "['Postsecondary diploma (e.g. college)', 'Some postsecondary', 'High school', 'Did not complete high school'] 18\n",
      "[\"Bachelor's\"] 46\n",
      "[\"Master's/Professional (MD, MBA, etc)\", 'Doctorate'] 47\n",
      "(79.25851851851851, 82.67916666666666, 83.1013829787234)\n",
      "(7.463340051129444, 5.2938403358249975, 5.7921441082778475)\n",
      "F_onewayResult(statistic=2.8378974709010056, pvalue=0.06292319984470883)\n",
      "KruskalResult(statistic=3.601556314299745, pvalue=0.16517030974347013)\n"
     ]
    }
   ],
   "source": [
    "# Parents education\n",
    "content = load_file('parents_edu')\n",
    "\n",
    "fhs = extract_groups(content['first_half_salaries'], [\n",
    "    ['Postsecondary diploma (e.g. college)', 'Some postsecondary', 'High school', 'Did not complete high school'],\n",
    "    [\"Bachelor's\"],\n",
    "    [\"Master\\'s/Professional (MD, MBA, etc)\", \"Doctorate\"]\n",
    "])\n",
    "print(np.mean(fhs[0]), np.mean(fhs[1]), np.mean(fhs[2]))\n",
    "print(np.std(fhs[0]), np.std(fhs[1]),  np.std(fhs[2]))\n",
    "print(stats.f_oneway(*fhs))\n",
    "print(stats.kruskal(*fhs))\n",
    "print('')\n",
    "\n",
    "fhg = extract_groups(content['first_half_grades'], [\n",
    "    ['Postsecondary diploma (e.g. college)', 'Some postsecondary', 'High school', 'Did not complete high school'],\n",
    "    [\"Bachelor's\"],\n",
    "    [\"Master\\'s/Professional (MD, MBA, etc)\", \"Doctorate\"]\n",
    "])\n",
    "print(np.mean(fhg[0]), np.mean(fhg[1]), np.mean(fhg[2]))\n",
    "print(np.std(fhg[0]), np.std(fhg[1]), np.std(fhg[2]))\n",
    "print(stats.f_oneway(*fhg))\n",
    "print(stats.kruskal(*fhg))\n",
    "print('')\n",
    "\n",
    "shs = extract_groups(content['second_half_salaries'], [\n",
    "    ['Postsecondary diploma (e.g. college)', 'Some postsecondary', 'High school', 'Did not complete high school'],\n",
    "    [\"Bachelor's\"],\n",
    "    [\"Master\\'s/Professional (MD, MBA, etc)\", \"Doctorate\"]\n",
    "])\n",
    "print(np.mean(shs[0]), np.mean(shs[1]), np.mean(shs[2]))\n",
    "print(np.std(shs[0]), np.std(shs[1]), np.std(shs[2]))\n",
    "print(stats.f_oneway(*shs))\n",
    "print(stats.kruskal(*shs))\n",
    "print('')\n",
    "\n",
    "shg = extract_groups(content['second_half_grades'], [\n",
    "    ['Postsecondary diploma (e.g. college)', 'Some postsecondary', 'High school', 'Did not complete high school'],\n",
    "    [\"Bachelor's\"],\n",
    "    [\"Master\\'s/Professional (MD, MBA, etc)\", \"Doctorate\"]\n",
    "])\n",
    "print(np.mean(shg[0]), np.mean(shg[1]), np.mean(shg[2]))\n",
    "print(np.std(shg[0]), np.std(shg[1]), np.std(shg[2]))\n",
    "print(stats.f_oneway(*shg))\n",
    "print(stats.kruskal(*shg))"
   ]
  },
  {
   "cell_type": "code",
   "execution_count": 65,
   "metadata": {},
   "outputs": [
    {
     "name": "stdout",
     "output_type": "stream",
     "text": [
      "[0, 94] 72\n",
      "[94, 100] 38\n",
      "(4203.096323148148, 4579.904281578946)\n",
      "(1873.276216211977, 1792.6590046352624)\n",
      "F_onewayResult(statistic=1.0176857198121207, pvalue=0.3153234299214731)\n",
      "KruskalResult(statistic=1.0115925799284102, pvalue=0.3145216082591609)\n",
      "\n",
      "[0, 94] 73\n",
      "[94, 100] 37\n",
      "(80.34551369863013, 83.31675675675676)\n",
      "(8.025915568465763, 7.263009829173479)\n",
      "F_onewayResult(statistic=3.5183706179728587, pvalue=0.06339250374700438)\n",
      "KruskalResult(statistic=2.9832679537477396, pvalue=0.08412925032984256)\n",
      "\n",
      "[0, 94] 73\n",
      "[94, 100] 38\n",
      "(8396.941535616439, 9783.372378947368)\n",
      "(2677.529843323969, 2800.156744533341)\n",
      "F_onewayResult(statistic=6.375338741265559, pvalue=0.013010819996977728)\n",
      "KruskalResult(statistic=5.07545163822339, pvalue=0.02426694937242192)\n",
      "\n",
      "[0, 94] 73\n",
      "[94, 100] 37\n",
      "(81.28920091324201, 84.3439189189189)\n",
      "(6.194241225643408, 5.300754298075038)\n",
      "F_onewayResult(statistic=6.44326699011021, pvalue=0.012563097576486857)\n",
      "KruskalResult(statistic=5.979542037880528, pvalue=0.014472759768020671)\n"
     ]
    }
   ],
   "source": [
    "content = load_file('admission_avg')\n",
    "\n",
    "fhs = extract_range(content['first_half_salaries'], [[0, 94], [94, 100]])\n",
    "print(np.mean(fhs[0]), np.mean(fhs[1]))\n",
    "print(np.std(fhs[0]), np.std(fhs[1]))\n",
    "print(stats.f_oneway(*fhs))\n",
    "print(stats.kruskal(*fhs))\n",
    "print('')\n",
    "\n",
    "fhg = extract_range(content['first_half_grades'], [[0, 94], [94, 100]])\n",
    "print(np.mean(fhg[0]), np.mean(fhg[1]))\n",
    "print(np.std(fhg[0]), np.std(fhg[1]))\n",
    "print(stats.f_oneway(*fhg))\n",
    "print(stats.kruskal(*fhg))\n",
    "print('')\n",
    "\n",
    "shs = extract_range(content['second_half_salaries'], [[0, 94], [94, 100]])\n",
    "print(np.mean(shs[0]), np.mean(shs[1]))\n",
    "print(np.std(shs[0]), np.std(shs[1]))\n",
    "print(stats.f_oneway(*shs))\n",
    "print(stats.kruskal(*shs))\n",
    "print('')\n",
    "\n",
    "shg = extract_range(content['second_half_grades'], [[0, 94], [94, 100]])\n",
    "print(np.mean(shg[0]), np.mean(shg[1]))\n",
    "print(np.std(shg[0]), np.std(shg[1]))\n",
    "print(stats.f_oneway(*shg))\n",
    "print(stats.kruskal(*shg))"
   ]
  },
  {
   "cell_type": "markdown",
   "metadata": {},
   "source": [
    "### Gender rating\n",
    "Check if the program rating is similar between male and female students"
   ]
  },
  {
   "cell_type": "code",
   "execution_count": 24,
   "metadata": {},
   "outputs": [
    {
     "name": "stdout",
     "output_type": "stream",
     "text": [
      "(93, 19)\n",
      "F_onewayResult(statistic=0.14766472350605012, pvalue=0.7015189429260772)\n",
      "KruskalResult(statistic=0.00029500832952058517, pvalue=0.986296362944981)\n"
     ]
    },
    {
     "name": "stderr",
     "output_type": "stream",
     "text": [
      "/Users/andy/Documents/Github/se-2018-class-profile/venv/lib/python2.7/site-packages/scipy/stats/stats.py:245: RuntimeWarning: The input array could not be properly checked for nan values. nan values will be ignored.\n",
      "  \"values. nan values will be ignored.\", RuntimeWarning)\n"
     ]
    }
   ],
   "source": [
    "values = defaultdict(list)\n",
    "with open('../private/gender_rating.json', 'r') as f:\n",
    "    content = json.loads(f.read())\n",
    "    print(len(content['Male']), len(content['Female']))\n",
    "    print(stats.f_oneway(content['Male'], content['Female']))\n",
    "    print(stats.kruskal(content['Male'], content['Female']))"
   ]
  },
  {
   "cell_type": "code",
   "execution_count": null,
   "metadata": {},
   "outputs": [],
   "source": []
  }
 ],
 "metadata": {
  "kernelspec": {
   "display_name": "Python 2",
   "language": "python",
   "name": "python2"
  },
  "language_info": {
   "codemirror_mode": {
    "name": "ipython",
    "version": 2
   },
   "file_extension": ".py",
   "mimetype": "text/x-python",
   "name": "python",
   "nbconvert_exporter": "python",
   "pygments_lexer": "ipython2",
   "version": "2.7.10"
  }
 },
 "nbformat": 4,
 "nbformat_minor": 2
}
