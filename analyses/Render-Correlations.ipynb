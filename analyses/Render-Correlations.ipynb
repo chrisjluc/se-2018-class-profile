{
 "cells": [
  {
   "cell_type": "code",
   "execution_count": 1,
   "metadata": {},
   "outputs": [],
   "source": [
    "from Bucket import Bucket\n",
    "import os\n",
    "import json\n",
    "\n",
    "%matplotlib inline\n",
    "\n",
    "import matplotlib\n",
    "import numpy as np\n",
    "import matplotlib.pyplot as plt"
   ]
  },
  {
   "cell_type": "code",
   "execution_count": 2,
   "metadata": {},
   "outputs": [],
   "source": [
    "bucket_path = '../private/result-buckets/'\n",
    "grade_vs_salary = '../private/grade-vs-salary.json'\n",
    "grade_vs_attendance = '../private/grade-vs-attendance.json'\n",
    "TERM = ['1a', '1b', '2a', '2b', '3a', '3b', '4a']"
   ]
  },
  {
   "cell_type": "code",
   "execution_count": 3,
   "metadata": {},
   "outputs": [],
   "source": [
    "def process_file(filename):\n",
    "    with open(bucket_path + filename, 'r') as f:\n",
    "        f = json.loads(f.read())\n",
    "        b = Bucket.create_from_bucket(filename.replace('_buckets.json', ''), f)\n",
    "        render_file(b)"
   ]
  },
  {
   "cell_type": "code",
   "execution_count": 4,
   "metadata": {},
   "outputs": [],
   "source": [
    "def render_file(b):\n",
    "    fig = plt.figure(figsize=(18, 16))    \n",
    "    \n",
    "    ax1 = fig.add_subplot(211)\n",
    "    cols = []\n",
    "    for val in b:\n",
    "        if type(b[val]) == dict and 'message' in b[val]:\n",
    "            continue\n",
    "        cols.append(val)\n",
    "        salaries = []\n",
    "\n",
    "        salaries = [s.mean() for s in b[val].salaries]\n",
    "        ax1.plot([1, 2, 3, 4, 5, 6], salaries) # add 7 for term\n",
    "    ax1.legend(cols, loc='upper left')\n",
    "#    plt.show()"
   ]
  },
  {
   "cell_type": "code",
   "execution_count": 5,
   "metadata": {
    "scrolled": false
   },
   "outputs": [],
   "source": [
    "for i in os.listdir(bucket_path):\n",
    "    if i.startswith('.'):\n",
    "        continue\n",
    "#    process_file(i)"
   ]
  },
  {
   "cell_type": "code",
   "execution_count": 6,
   "metadata": {},
   "outputs": [],
   "source": [
    "def render_grade_vs_salary(data, term, axis='cumulative_avg'):\n",
    "    \"\"\"Creates a scatter plot of the data of a term.\n",
    "    \n",
    "    `axis` represents the x axis that's plotted against salary.\n",
    "    \"\"\"\n",
    "    x = []\n",
    "    y = []\n",
    "    for salary in data:\n",
    "        for item in data[salary]:\n",
    "            x.append(item[axis])\n",
    "            y.append(item['result_salary'])\n",
    "    plt.xlim(60, 100)\n",
    "    plt.scatter(x, y)\n",
    "    print('Term: ' + term)\n",
    "    print(np.corrcoef(x, y)[0, 1])\n",
    "    plt.title('Cumulative average vs Salary, ' + str(term) + 'th coop')\n",
    "    plt.show()"
   ]
  },
  {
   "cell_type": "code",
   "execution_count": 46,
   "metadata": {
    "scrolled": false
   },
   "outputs": [],
   "source": [
    "with open(grade_vs_salary, 'r') as f:\n",
    "    data = json.loads(f.read())\n",
    "    for term in range(1, len(data)+1):\n",
    "        pass\n",
    "#        render_grade_vs_salary(data[str(term)], str(term))"
   ]
  },
  {
   "cell_type": "code",
   "execution_count": 47,
   "metadata": {},
   "outputs": [],
   "source": [
    "from scipy.interpolate import interp1d\n",
    "import math"
   ]
  },
  {
   "cell_type": "code",
   "execution_count": 48,
   "metadata": {},
   "outputs": [],
   "source": [
    "def render_grade_vs_attendance(data, term):\n",
    "    x = []\n",
    "    y = []\n",
    "    legend = []\n",
    "    legend_values = {\n",
    "        '4': 'Attends almost all classes',\n",
    "        '3': 'Attends most classes',\n",
    "        '2': 'Sometimes attends class',\n",
    "        '1': 'Rarely attends class'\n",
    "    }\n",
    "    max_val = []\n",
    "    for i in range(1, 5):\n",
    "        rating = data.get(str(i), [])\n",
    "        grades = [0] * 6\n",
    "        for g in rating:\n",
    "            if g < 60 or g == 'exchange':\n",
    "                continue\n",
    "            index = int(math.floor((float(g) - 60) / (40.0 / 6))) # Normalize to range 0-7\n",
    "            grades[index] += 1\n",
    "        if sum(grades) < 5:\n",
    "            continue\n",
    "        legend.append(legend_values[str(i)])\n",
    "        grades = list(map(lambda x: float(x) / sum(grades) * 100, grades))\n",
    "\n",
    "        x = [num for num in range(60, 100, 7)]\n",
    "        f = interp1d(x, grades, kind='cubic', fill_value='extrapolate')\n",
    "        xnew = np.linspace(63, 100, num=40)\n",
    "        max_val.append(max(f(xnew)))\n",
    "        plt.plot(xnew, f(xnew))\n",
    "        \n",
    "    plt.xlim(60, 100)\n",
    "    plt.ylim(0, 60)\n",
    "    plt.legend(legend)\n",
    "    plt.title('Attendance vs Term Average, ' + TERM[term])\n",
    "    plt.show()"
   ]
  },
  {
   "cell_type": "code",
   "execution_count": 49,
   "metadata": {
    "scrolled": false
   },
   "outputs": [],
   "source": [
    "with open(grade_vs_attendance, 'r') as f:\n",
    "    data = json.loads(f.read())\n",
    "    for i, t in enumerate(TERM):\n",
    "        pass\n",
    "#        render_grade_vs_attendance(data[t], i)"
   ]
  },
  {
   "cell_type": "markdown",
   "metadata": {},
   "source": [
    "## Performing an ANOVA of specific data sets."
   ]
  },
  {
   "cell_type": "code",
   "execution_count": 50,
   "metadata": {},
   "outputs": [],
   "source": [
    "import scipy.stats as stats\n",
    "from collections import defaultdict"
   ]
  },
  {
   "cell_type": "code",
   "execution_count": 51,
   "metadata": {},
   "outputs": [
    {
     "data": {
      "text/plain": [
       "F_onewayResult(statistic=7.121019471642447, pvalue=0.0002812242314534544)"
      ]
     },
     "execution_count": 51,
     "metadata": {},
     "output_type": "execute_result"
    }
   ],
   "source": [
    "# Example usage of one-way anova\n",
    "tillamook = [0.0571, 0.0813, 0.0831, 0.0976, 0.0817, 0.0859, 0.0735, 0.0659, 0.0923, 0.0836]\n",
    "newport = [0.0873, 0.0662, 0.0672, 0.0819, 0.0749, 0.0649, 0.0835, 0.0725]\n",
    "petersburg = [0.0974, 0.1352, 0.0817, 0.1016, 0.0968, 0.1064, 0.105]\n",
    "magadan = [0.1033, 0.0915, 0.0781, 0.0685, 0.0677, 0.0697, 0.0764, 0.0689]\n",
    "tvarminne = [0.0703, 0.1026, 0.0956, 0.0973, 0.1039, 0.1045]\n",
    "stats.f_oneway(tillamook, newport, petersburg, magadan, tvarminne)"
   ]
  },
  {
   "cell_type": "markdown",
   "metadata": {},
   "source": [
    "### Coop Correlations\n",
    "- Technical background\n",
    "  - Coding start age\n",
    "  - Hackathons\n",
    "  - side projects \n",
    "- Background\n",
    "  - Parental education\n",
    "  - Admission average\n",
    "  \n",
    "### Academic Correlations:\n",
    "- SE Rating: TODO: do we really want this?\n",
    "- Admission average\n",
    "- Parents education"
   ]
  },
  {
   "cell_type": "code",
   "execution_count": 52,
   "metadata": {},
   "outputs": [
    {
     "data": {
      "text/plain": [
       "F_onewayResult(statistic=0.8124520439327375, pvalue=0.49003637374348463)"
      ]
     },
     "execution_count": 52,
     "metadata": {},
     "output_type": "execute_result"
    }
   ],
   "source": [
    "# bucket_path\n",
    "values = defaultdict(list)\n",
    "START = 5\n",
    "END = START + 1\n",
    "with open(bucket_path + 'code_start_age_buckets.json', 'r') as f:\n",
    "    content = json.loads(f.read())\n",
    "    # Split 9-14, 15, 16, 17-18\n",
    "    for k in content:\n",
    "        if 'salaries' not in content[k]: \n",
    "            continue # This isn't ideal, but it's required if I want to keep data private.\n",
    "        if int(k) <= 14:\n",
    "            for i in range(START, END):\n",
    "                term = content[k]['salaries'][i]\n",
    "                values[14].extend(np.concatenate(term['split_count'][:]))\n",
    "        elif int(k) == 15:\n",
    "            for i in range(START, END):\n",
    "                term = content[k]['salaries'][i]\n",
    "                values[15].extend(np.concatenate(term['split_count'][:]))\n",
    "        elif int(k) == 16:\n",
    "            for i in range(START, END):\n",
    "                term = content[k]['salaries'][i]\n",
    "                values[16].extend(np.concatenate(term['split_count'][:]))\n",
    "        elif int(k) >= 17:\n",
    "            for i in range(START, END):\n",
    "                term = content[k]['salaries'][i]\n",
    "                values[17].extend(np.concatenate(term['split_count'][:]))\n",
    "\n",
    "stats.f_oneway(values[14], values[15], values[16], values[17])"
   ]
  },
  {
   "cell_type": "code",
   "execution_count": null,
   "metadata": {},
   "outputs": [],
   "source": []
  },
  {
   "cell_type": "code",
   "execution_count": null,
   "metadata": {},
   "outputs": [],
   "source": []
  }
 ],
 "metadata": {
  "kernelspec": {
   "display_name": "Python 2",
   "language": "python",
   "name": "python2"
  },
  "language_info": {
   "codemirror_mode": {
    "name": "ipython",
    "version": 2
   },
   "file_extension": ".py",
   "mimetype": "text/x-python",
   "name": "python",
   "nbconvert_exporter": "python",
   "pygments_lexer": "ipython2",
   "version": "2.7.10"
  }
 },
 "nbformat": 4,
 "nbformat_minor": 2
}
