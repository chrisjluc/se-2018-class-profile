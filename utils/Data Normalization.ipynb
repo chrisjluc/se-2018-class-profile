{
 "cells": [
  {
   "cell_type": "markdown",
   "metadata": {},
   "source": [
    "# About this file"
   ]
  },
  {
   "cell_type": "markdown",
   "metadata": {},
   "source": [
    "Data normalization takes a csv file, and outputs a set of public CSV's with one column and private ordering files. \n",
    "\n",
    "Each public file is associated with a corresponding private file.\n",
    "\n",
    "The public file consists of a shuffled column. The first line is the column name, and the rest of the file consists of every entry in a shuffled order.\n",
    "\n",
    "The private file is a JSON that maps each row entry to its correct position. The JSON should also contain other metadata about the public CSV file.\n",
    "\n",
    "There is a corresponding file that reverses this and writes the changes to raw CSV file."
   ]
  },
  {
   "cell_type": "code",
   "execution_count": 44,
   "metadata": {},
   "outputs": [],
   "source": [
    "from functools import partial\n",
    "import numpy as np\n",
    "import pandas as pd\n",
    "import re\n",
    "import random\n",
    "import json\n",
    "\n",
    "import constants\n",
    "\n",
    "# Configure any settings\n",
    "pd.set_option('display.max_columns', None)"
   ]
  },
  {
   "cell_type": "code",
   "execution_count": 45,
   "metadata": {},
   "outputs": [],
   "source": [
    "# Declare any constants\n",
    "raw_file = '../data/raw.csv'\n",
    "rows_output_directory = '../private/rows/'\n",
    "indices_output_directory = '../private/indices'"
   ]
  },
  {
   "cell_type": "code",
   "execution_count": 46,
   "metadata": {},
   "outputs": [],
   "source": [
    "df = pd.read_csv(raw_file)\n",
    "df.columns = constants.columns\n",
    "df.to_csv('temp.csv')"
   ]
  },
  {
   "cell_type": "code",
   "execution_count": 47,
   "metadata": {},
   "outputs": [],
   "source": [
    "# Creates an array with length `length` that contains unique integers from 0 to length-1\n",
    "def generate_shuffled_indices(length):\n",
    "    array = [i for i in range(0, length)]\n",
    "    random.shuffle(array)\n",
    "    return array"
   ]
  },
  {
   "cell_type": "code",
   "execution_count": 48,
   "metadata": {},
   "outputs": [],
   "source": [
    "# Takes the rows, and shuffles them using the shuffled_indices\n",
    "def shuffle_rows(row_values, indices):\n",
    "    rows = [None] * len(indices)\n",
    "    for i, new_index in enumerate(indices):\n",
    "        rows[new_index] = row_values[i]\n",
    "    return rows"
   ]
  },
  {
   "cell_type": "code",
   "execution_count": 49,
   "metadata": {},
   "outputs": [],
   "source": [
    "# Takes the shuffled rows, and writes them to a public folder\n",
    "def write_public_column(col_name, rows, filename):\n",
    "    full_list = [(col_name, rows)]\n",
    "    df = pd.DataFrame.from_items(full_list)\n",
    "    df.to_csv(rows_output_directory + filename)"
   ]
  },
  {
   "cell_type": "code",
   "execution_count": 50,
   "metadata": {},
   "outputs": [],
   "source": [
    "# Writes the shuffled indices to a file\n",
    "def write_private_indices(col_name, shuffled_indices, filename):\n",
    "    output = {\n",
    "        'column': col_name,\n",
    "        'public_file': col_name + '.csv',\n",
    "        'order': shuffled_indices\n",
    "    }\n",
    "    f = open(indices_output_directory + filename, 'w')\n",
    "    f.write(json.dumps(output))"
   ]
  },
  {
   "cell_type": "code",
   "execution_count": 51,
   "metadata": {
    "scrolled": true
   },
   "outputs": [],
   "source": [
    "row_count = df.shape[0]\n",
    "\n",
    "# This is where the main work gets done.\n",
    "for col in constants.columns_to_normalize:\n",
    "    # Extract the column\n",
    "    row_values = df[col].tolist()\n",
    "    \n",
    "    # Create shuffled indices\n",
    "    shuffled_indices = generate_shuffled_indices(row_count)\n",
    "    \n",
    "    # Shuffle the column\n",
    "    shuffled_rows = shuffle_rows(row_values, shuffled_indices)\n",
    "    \n",
    "    # Write the column to a public csv file\n",
    "    write_public_column(col, shuffled_rows, col + '.csv')\n",
    "    \n",
    "    # Write the shuffled indices to a private file\n",
    "    write_private_indices(col, shuffled_indices, col + '.json')"
   ]
  },
  {
   "cell_type": "code",
   "execution_count": null,
   "metadata": {},
   "outputs": [],
   "source": [
    "    "
   ]
  }
 ],
 "metadata": {
  "kernelspec": {
   "display_name": "Python 2",
   "language": "python",
   "name": "python2"
  },
  "language_info": {
   "codemirror_mode": {
    "name": "ipython",
    "version": 2
   },
   "file_extension": ".py",
   "mimetype": "text/x-python",
   "name": "python",
   "nbconvert_exporter": "python",
   "pygments_lexer": "ipython2",
   "version": "2.7.10"
  }
 },
 "nbformat": 4,
 "nbformat_minor": 2
}
