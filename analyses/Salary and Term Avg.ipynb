{
 "cells": [
  {
   "cell_type": "code",
   "execution_count": 1,
   "metadata": {},
   "outputs": [],
   "source": [
    "from IPython.display import display\n",
    "\n",
    "import pandas as pd\n",
    "import numpy as np\n",
    "import matplotlib.pyplot as plt\n",
    "import math\n",
    "import json\n",
    "from collections import defaultdict\n",
    "\n",
    "from Bucket import Bucket\n",
    "from Distribution import Distribution\n",
    "from GradeSalaryHistory import GradeSalaryHistory\n",
    "\n",
    "\n",
    "pd.set_option('display.max_columns', None)\n",
    "plt.style.use('ggplot')\n",
    "\n",
    "# Show matplotlib plots in this notebook\n",
    "%matplotlib inline\n",
    "# Setting plot parameters\n",
    "from pylab import rcParams\n",
    "params = {\n",
    "    'figure.figsize': (8, 8),\n",
    "    'legend.fontsize': 15\n",
    "}\n",
    "rcParams.update(params)"
   ]
  },
  {
   "cell_type": "markdown",
   "metadata": {},
   "source": [
    "## Calculating data per coop term"
   ]
  },
  {
   "cell_type": "code",
   "execution_count": 4,
   "metadata": {},
   "outputs": [],
   "source": [
    "def get_coop_summary(num):\n",
    "    salaries = []\n",
    "    with open('../private/rows/coop_salary_' + str(num) + '.csv', 'r') as f:\n",
    "        first = True\n",
    "        for i in f.readlines():\n",
    "            if first:\n",
    "                first = False\n",
    "                continue\n",
    "\n",
    "            if i.split(',')[1].strip() == '':\n",
    "                continue\n",
    "            val = float(''.join(i.replace('\"', '').split(',')[1:]).strip())\n",
    "            if val <= 100:\n",
    "                continue\n",
    "            salaries.append(val)\n",
    "    print('Mean: ' + str(np.mean(salaries)))\n",
    "    print('Standard Deviation: ' + str(np.std(salaries)))\n",
    "    print('Size: ' + str(np.size(salaries)))"
   ]
  },
  {
   "cell_type": "code",
   "execution_count": 5,
   "metadata": {},
   "outputs": [
    {
     "name": "stdout",
     "output_type": "stream",
     "text": [
      "Coop term #1\n",
      "Mean: 2914.6247409523808\n",
      "Standard Deviation: 1134.3700423963214\n",
      "Size: 105\n",
      "\n",
      "\n",
      "Coop term #2\n",
      "Mean: 4236.191445454546\n",
      "Standard Deviation: 2067.6391842674298\n",
      "Size: 110\n",
      "\n",
      "\n",
      "Coop term #3\n",
      "Mean: 5895.652682727274\n",
      "Standard Deviation: 3594.6262012228067\n",
      "Size: 110\n",
      "\n",
      "\n",
      "Coop term #4\n",
      "Mean: 7981.304238532111\n",
      "Standard Deviation: 3498.7648385787347\n",
      "Size: 109\n",
      "\n",
      "\n",
      "Coop term #5\n",
      "Mean: 9338.25503181818\n",
      "Standard Deviation: 3429.123800084302\n",
      "Size: 110\n",
      "\n",
      "\n",
      "Coop term #6\n",
      "Mean: 10015.822339622644\n",
      "Standard Deviation: 3420.511930365345\n",
      "Size: 106\n",
      "\n",
      "\n"
     ]
    }
   ],
   "source": [
    "for i in range(1, 7):\n",
    "    print('Coop term #' + str(i))\n",
    "    get_coop_summary(i)\n",
    "    print('\\n')"
   ]
  },
  {
   "cell_type": "code",
   "execution_count": 6,
   "metadata": {},
   "outputs": [],
   "source": [
    "def get_term_summary(num):\n",
    "    avgs = []\n",
    "    with open('../private/rows/term_avg_' + str(num) + '.csv', 'r') as f:\n",
    "        first = True\n",
    "        for i in f.readlines():\n",
    "            if first:\n",
    "                first = False\n",
    "                continue\n",
    "\n",
    "            if i.split(',')[1].strip() == '':\n",
    "                continue\n",
    "            if i.split(',')[1].strip() == 'exchange':\n",
    "                continue\n",
    "            val = float(''.join(i.replace('\"', '').split(',')[1:]).strip())\n",
    "            avgs.append(val)\n",
    "    print('Mean: ' + str(np.mean(avgs)))\n",
    "    print('Standard Deviation: ' + str(np.std(avgs)))\n",
    "    print('Size: ' + str(np.size(avgs)))"
   ]
  },
  {
   "cell_type": "code",
   "execution_count": 7,
   "metadata": {},
   "outputs": [
    {
     "name": "stdout",
     "output_type": "stream",
     "text": [
      "Study Term #1a\n",
      "Mean: 84.08990990990992\n",
      "Standard Deviation: 8.870520516075594\n",
      "Size: 111\n",
      "\n",
      "\n",
      "Study Term #1b\n",
      "Mean: 80.59818181818181\n",
      "Standard Deviation: 9.513253738559426\n",
      "Size: 110\n",
      "\n",
      "\n",
      "Study Term #2a\n",
      "Mean: 81.41441441441441\n",
      "Standard Deviation: 8.168802848178235\n",
      "Size: 111\n",
      "\n",
      "\n",
      "Study Term #2b\n",
      "Mean: 79.57882882882883\n",
      "Standard Deviation: 7.817974639072891\n",
      "Size: 111\n",
      "\n",
      "\n",
      "Study Term #3a\n",
      "Mean: 83.34726415094339\n",
      "Standard Deviation: 7.1387228038247095\n",
      "Size: 106\n",
      "\n",
      "\n",
      "Study Term #3b\n",
      "Mean: 79.8177358490566\n",
      "Standard Deviation: 6.949072461930993\n",
      "Size: 106\n",
      "\n",
      "\n",
      "Study Term #4a\n",
      "Mean: 83.44225225225226\n",
      "Standard Deviation: 5.740677783489182\n",
      "Size: 111\n",
      "\n",
      "\n"
     ]
    }
   ],
   "source": [
    "for i in ['1a', '1b', '2a', '2b', '3a', '3b', '4a']:\n",
    "    print('Study Term #' + str(i))\n",
    "    get_term_summary(i)\n",
    "    print('\\n')"
   ]
  },
  {
   "cell_type": "code",
   "execution_count": null,
   "metadata": {},
   "outputs": [],
   "source": []
  }
 ],
 "metadata": {
  "kernelspec": {
   "display_name": "Python 2",
   "language": "python",
   "name": "python2"
  },
  "language_info": {
   "codemirror_mode": {
    "name": "ipython",
    "version": 2
   },
   "file_extension": ".py",
   "mimetype": "text/x-python",
   "name": "python",
   "nbconvert_exporter": "python",
   "pygments_lexer": "ipython2",
   "version": "2.7.10"
  }
 },
 "nbformat": 4,
 "nbformat_minor": 2
}
