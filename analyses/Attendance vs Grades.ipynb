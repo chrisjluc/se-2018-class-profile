{
 "cells": [
  {
   "cell_type": "markdown",
   "metadata": {},
   "source": [
    "This script gets the grades for each attendance level for each term."
   ]
  },
  {
   "cell_type": "code",
   "execution_count": 14,
   "metadata": {},
   "outputs": [],
   "source": [
    "from IPython.display import display\n",
    "\n",
    "import pandas as pd\n",
    "import numpy as np\n",
    "import matplotlib.pyplot as plt\n",
    "import math\n",
    "import json\n",
    "from collections import defaultdict\n",
    "\n",
    "from Bucket import Bucket\n",
    "from Distribution import Distribution\n",
    "from GradeSalaryHistory import GradeSalaryHistory\n",
    "\n",
    "\n",
    "pd.set_option('display.max_columns', None)\n",
    "plt.style.use('ggplot')\n",
    "\n",
    "# Show matplotlib plots in this notebook\n",
    "%matplotlib inline\n",
    "# Setting plot parameters\n",
    "from pylab import rcParams\n",
    "params = {\n",
    "    'figure.figsize': (8, 8),\n",
    "    'legend.fontsize': 15\n",
    "}\n",
    "rcParams.update(params)"
   ]
  },
  {
   "cell_type": "code",
   "execution_count": 15,
   "metadata": {},
   "outputs": [],
   "source": [
    "df = pd.read_csv('../private/results-04-10.csv')  # TODO: Write the response file\n",
    "TERM = ['1a', '1b', '2a', '2b', '3a', '3b', '4a']\n",
    "OUTPUT = '../private/grade-vs-attendance.json'"
   ]
  },
  {
   "cell_type": "code",
   "execution_count": 16,
   "metadata": {},
   "outputs": [],
   "source": [
    "def isempty(a):\n",
    "    return isnan(a) or not a"
   ]
  },
  {
   "cell_type": "code",
   "execution_count": 17,
   "metadata": {},
   "outputs": [],
   "source": [
    "def get_data(df, term):\n",
    "    data = defaultdict(list)\n",
    "    attendance_col = 'class_attendance_' + TERM[term]\n",
    "    grades_col = 'term_avg_' + TERM[term]\n",
    "    for i in range(0, df.shape[0]):\n",
    "        if isempty(df[grades_col][i]) or isempty(df[attendance_col][i]):\n",
    "            continue\n",
    "        data[str(df[attendance_col][i])].append(df[grades_col][i])\n",
    "    return data"
   ]
  },
  {
   "cell_type": "code",
   "execution_count": 18,
   "metadata": {},
   "outputs": [],
   "source": [
    "def isnan(a):\n",
    "    return a != a"
   ]
  },
  {
   "cell_type": "code",
   "execution_count": 20,
   "metadata": {},
   "outputs": [],
   "source": [
    "data = {}\n",
    "for i in range(0, 7):\n",
    "    data[TERM[i]] = get_data(df, i)\n",
    "with open(OUTPUT, 'w') as f:\n",
    "    f.write(json.dumps(data, indent=True))"
   ]
  },
  {
   "cell_type": "code",
   "execution_count": null,
   "metadata": {},
   "outputs": [],
   "source": []
  }
 ],
 "metadata": {
  "kernelspec": {
   "display_name": "Python 2",
   "language": "python",
   "name": "python2"
  },
  "language_info": {
   "codemirror_mode": {
    "name": "ipython",
    "version": 2
   },
   "file_extension": ".py",
   "mimetype": "text/x-python",
   "name": "python",
   "nbconvert_exporter": "python",
   "pygments_lexer": "ipython2",
   "version": "2.7.10"
  }
 },
 "nbformat": 4,
 "nbformat_minor": 2
}
