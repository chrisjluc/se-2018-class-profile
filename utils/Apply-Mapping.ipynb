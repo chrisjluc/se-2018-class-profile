{
 "cells": [
  {
   "cell_type": "markdown",
   "metadata": {},
   "source": [
    "This file will use the `mappings.json` file and apply the mapping on all of the values of the inputted file.\n",
    "In this case, it should apply it on `raw.csv` or whatever is the most recent "
   ]
  },
  {
   "cell_type": "code",
   "execution_count": 88,
   "metadata": {},
   "outputs": [],
   "source": [
    "from functools import partial\n",
    "import numpy as np\n",
    "import pandas as pd\n",
    "import re\n",
    "import random\n",
    "import json\n",
    "import datetime\n",
    "import os\n",
    "\n",
    "import constants\n",
    "\n",
    "# Configure any settings\n",
    "pd.set_option('display.max_columns', None)"
   ]
  },
  {
   "cell_type": "code",
   "execution_count": 89,
   "metadata": {},
   "outputs": [],
   "source": [
    "raw_file = '../data/raw-1.csv' # REPLACE THIS WITH THE MOST EXISTING DATA SET FILEPATH\n",
    "results_directory = '../private/'"
   ]
  },
  {
   "cell_type": "code",
   "execution_count": 90,
   "metadata": {},
   "outputs": [],
   "source": [
    "df = pd.read_csv(raw_file)\n",
    "df.columns = constants.columns"
   ]
  },
  {
   "cell_type": "code",
   "execution_count": 91,
   "metadata": {},
   "outputs": [],
   "source": [
    "mapping = {}\n",
    "with open('./mappings.json') as f:\n",
    "    mapping = json.loads(f.read())"
   ]
  },
  {
   "cell_type": "code",
   "execution_count": 92,
   "metadata": {},
   "outputs": [],
   "source": [
    "def fix_values(df, mappings, col):\n",
    "    \"\"\"Goes through a column `col` and applies the mapping on it.\"\"\"\n",
    "    vals = df[col]\n",
    "    for i in range(0, df.shape[0]):\n",
    "        if str(df[col][i]) not in mappings:\n",
    "            continue\n",
    "        df.loc[i, col] = mappings.get(str(df[col][i]), df[col][i])"
   ]
  },
  {
   "cell_type": "code",
   "execution_count": 93,
   "metadata": {},
   "outputs": [],
   "source": [
    "row_count = df.shape[0]\n",
    "\n",
    "for col in constants.columns:\n",
    "    fix_values(df, mapping[col], col)"
   ]
  },
  {
   "cell_type": "code",
   "execution_count": 94,
   "metadata": {},
   "outputs": [],
   "source": [
    "now = datetime.datetime.now()\n",
    "formatted_date = now.strftime(\"%m-%d\")\n",
    "df.to_csv(results_directory + 'mapped-results-' + formatted_date + '.csv', index=False)"
   ]
  },
  {
   "cell_type": "markdown",
   "metadata": {},
   "source": [
    "## "
   ]
  }
 ],
 "metadata": {
  "kernelspec": {
   "display_name": "Python 2",
   "language": "python",
   "name": "python2"
  },
  "language_info": {
   "codemirror_mode": {
    "name": "ipython",
    "version": 2
   },
   "file_extension": ".py",
   "mimetype": "text/x-python",
   "name": "python",
   "nbconvert_exporter": "python",
   "pygments_lexer": "ipython2",
   "version": "2.7.10"
  }
 },
 "nbformat": 4,
 "nbformat_minor": 2
}
