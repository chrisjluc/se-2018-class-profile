{
 "cells": [
  {
   "cell_type": "code",
   "execution_count": 7,
   "metadata": {},
   "outputs": [],
   "source": [
    "from Bucket import Bucket\n",
    "import os\n",
    "import json\n",
    "\n",
    "%matplotlib inline\n",
    "\n",
    "import matplotlib\n",
    "import numpy as np\n",
    "import matplotlib.pyplot as plt"
   ]
  },
  {
   "cell_type": "code",
   "execution_count": 8,
   "metadata": {},
   "outputs": [],
   "source": [
    "bucket_path = '../private/result-buckets/'\n",
    "grade_vs_salary = '../private/grade-vs-salary.json'\n",
    "grade_vs_attendance = '../private/grade-vs-attendance.json'\n",
    "TERM = ['1a', '1b', '2a', '2b', '3a', '3b', '4a']"
   ]
  },
  {
   "cell_type": "code",
   "execution_count": 9,
   "metadata": {},
   "outputs": [],
   "source": [
    "def process_file(filename):\n",
    "    with open(bucket_path + filename, 'r') as f:\n",
    "        f = json.loads(f.read())\n",
    "        b = Bucket.create_from_bucket(filename.replace('_buckets.json', ''), f)\n",
    "        render_file(b)"
   ]
  },
  {
   "cell_type": "code",
   "execution_count": 10,
   "metadata": {},
   "outputs": [],
   "source": [
    "def render_file(b):\n",
    "    fig = plt.figure(figsize=(18, 16))    \n",
    "    \n",
    "    ax1 = fig.add_subplot(211)\n",
    "    cols = []\n",
    "    for val in b:\n",
    "        if type(b[val]) == dict and 'message' in b[val]:\n",
    "            continue\n",
    "        cols.append(val)\n",
    "        salaries = []\n",
    "\n",
    "        salaries = [s.mean() for s in b[val].salaries]\n",
    "        ax1.plot([1, 2, 3, 4, 5, 6], salaries) # add 7 for term\n",
    "    ax1.legend(cols, loc='upper left')\n",
    "#    plt.show()"
   ]
  },
  {
   "cell_type": "code",
   "execution_count": 11,
   "metadata": {
    "scrolled": false
   },
   "outputs": [],
   "source": [
    "for i in os.listdir(bucket_path):\n",
    "    if i.startswith('.'):\n",
    "        continue\n",
    "#    process_file(i)"
   ]
  },
  {
   "cell_type": "code",
   "execution_count": 12,
   "metadata": {},
   "outputs": [],
   "source": [
    "def render_grade_vs_salary(data, term, axis='cumulative_avg'):\n",
    "    \"\"\"Creates a scatter plot of the data of a term.\n",
    "    \n",
    "    `axis` represents the x axis that's plotted against salary.\n",
    "    \"\"\"\n",
    "    x = []\n",
    "    y = []\n",
    "    for salary in data:\n",
    "        for item in data[salary]:\n",
    "            x.append(item[axis])\n",
    "            y.append(item['result_salary'])\n",
    "    plt.xlim(60, 100)\n",
    "    plt.scatter(x, y)\n",
    "    print('Term: ' + term)\n",
    "    print(np.corrcoef(x, y)[0, 1])\n",
    "    plt.title('Cumulative average vs Salary, ' + str(term) + 'th coop')\n",
    "    plt.show()"
   ]
  },
  {
   "cell_type": "code",
   "execution_count": 13,
   "metadata": {
    "scrolled": false
   },
   "outputs": [],
   "source": [
    "with open(grade_vs_salary, 'r') as f:\n",
    "    data = json.loads(f.read())\n",
    "    for term in range(1, len(data)+1):\n",
    "        pass\n",
    "#        render_grade_vs_salary(data[str(term)], str(term))"
   ]
  },
  {
   "cell_type": "code",
   "execution_count": 14,
   "metadata": {},
   "outputs": [],
   "source": [
    "from scipy.interpolate import interp1d\n",
    "import math"
   ]
  },
  {
   "cell_type": "code",
   "execution_count": 15,
   "metadata": {},
   "outputs": [],
   "source": [
    "def render_grade_vs_attendance(data, term):\n",
    "    x = []\n",
    "    y = []\n",
    "    legend = []\n",
    "    legend_values = {\n",
    "        '4': 'Attends almost all classes',\n",
    "        '3': 'Attends most classes',\n",
    "        '2': 'Sometimes attends class',\n",
    "        '1': 'Rarely attends class'\n",
    "    }\n",
    "    max_val = []\n",
    "    for i in range(1, 5):\n",
    "        rating = data.get(str(i), [])\n",
    "        grades = [0] * 6\n",
    "        for g in rating:\n",
    "            if g < 60 or g == 'exchange':\n",
    "                continue\n",
    "            index = int(math.floor((float(g) - 60) / (40.0 / 6))) # Normalize to range 0-7\n",
    "            grades[index] += 1\n",
    "        if sum(grades) < 5:\n",
    "            continue\n",
    "        legend.append(legend_values[str(i)])\n",
    "        grades = list(map(lambda x: float(x) / sum(grades) * 100, grades))\n",
    "\n",
    "        x = [num for num in range(60, 100, 7)]\n",
    "        f = interp1d(x, grades, kind='cubic', fill_value='extrapolate')\n",
    "        xnew = np.linspace(63, 100, num=40)\n",
    "        max_val.append(max(f(xnew)))\n",
    "        plt.plot(xnew, f(xnew))\n",
    "        \n",
    "    plt.xlim(60, 100)\n",
    "    plt.ylim(0, 60)\n",
    "    plt.legend(legend)\n",
    "    plt.title('Attendance vs Term Average, ' + TERM[term])\n",
    "    plt.show()"
   ]
  },
  {
   "cell_type": "code",
   "execution_count": 16,
   "metadata": {
    "scrolled": false
   },
   "outputs": [],
   "source": [
    "with open(grade_vs_attendance, 'r') as f:\n",
    "    data = json.loads(f.read())\n",
    "    for i, t in enumerate(TERM):\n",
    "        pass\n",
    "#        render_grade_vs_attendance(data[t], i)"
   ]
  },
  {
   "cell_type": "markdown",
   "metadata": {},
   "source": [
    "## Performing an ANOVA of specific data sets."
   ]
  },
  {
   "cell_type": "code",
   "execution_count": 17,
   "metadata": {},
   "outputs": [],
   "source": [
    "import scipy.stats as stats\n",
    "from collections import defaultdict"
   ]
  },
  {
   "cell_type": "code",
   "execution_count": 18,
   "metadata": {},
   "outputs": [
    {
     "data": {
      "text/plain": [
       "F_onewayResult(statistic=7.121019471642447, pvalue=0.0002812242314534544)"
      ]
     },
     "execution_count": 18,
     "metadata": {},
     "output_type": "execute_result"
    }
   ],
   "source": [
    "# Example usage of one-way anova\n",
    "tillamook = [0.0571, 0.0813, 0.0831, 0.0976, 0.0817, 0.0859, 0.0735, 0.0659, 0.0923, 0.0836]\n",
    "newport = [0.0873, 0.0662, 0.0672, 0.0819, 0.0749, 0.0649, 0.0835, 0.0725]\n",
    "petersburg = [0.0974, 0.1352, 0.0817, 0.1016, 0.0968, 0.1064, 0.105]\n",
    "magadan = [0.1033, 0.0915, 0.0781, 0.0685, 0.0677, 0.0697, 0.0764, 0.0689]\n",
    "tvarminne = [0.0703, 0.1026, 0.0956, 0.0973, 0.1039, 0.1045]\n",
    "stats.f_oneway(tillamook, newport, petersburg, magadan, tvarminne)"
   ]
  },
  {
   "cell_type": "markdown",
   "metadata": {},
   "source": [
    "### Coop Correlations\n",
    "- Technical background\n",
    "  - Coding start age\n",
    "  - Hackathons\n",
    "  - side projects \n",
    "- Background\n",
    "  - Parental education\n",
    "  - Admission average\n",
    "  \n",
    "### Academic Correlations:\n",
    "- SE Rating: TODO: do we really want this?\n",
    "- Admission average\n",
    "- Parents education"
   ]
  },
  {
   "cell_type": "code",
   "execution_count": 130,
   "metadata": {},
   "outputs": [],
   "source": [
    "def correlate_code_start_age(content, dv):\n",
    "    \"\"\"dv: dependent variable.\"\"\"\n",
    "    shs = content[dv]\n",
    "    values = defaultdict(list)\n",
    "    values[14].extend(shs['9'])\n",
    "    values[14].extend(shs['10'])\n",
    "    values[14].extend(shs['11'])\n",
    "    values[14].extend(shs['12'])\n",
    "    values[14].extend(shs['13'])\n",
    "    values[14].extend(shs['14'])\n",
    "    values[15].extend(shs['15'])\n",
    "    values[16].extend(shs['16'])\n",
    "    values[17].extend(shs['17'])\n",
    "    values[17].extend(shs['18'])\n",
    "    values[17].extend(shs['19'])\n",
    "\n",
    "    print('CALCULATING ' + dv.upper())\n",
    "    fh = values[14] + values[15]\n",
    "    sh = values[16] + values[17]\n",
    "    print('Ages <=15, >15')\n",
    "    print(stats.f_oneway(fh, sh))\n",
    "    print(stats.kruskal(fh, sh))\n",
    "    print(np.mean(fh), np.mean(sh))\n",
    "    print(np.std(fh), np.std(sh))\n",
    "    print('[Count] Younger than 16: ' + str(len(fh)) + ', At least 16: ' + str(len(sh)))\n",
    "    print('')"
   ]
  },
  {
   "cell_type": "code",
   "execution_count": 126,
   "metadata": {},
   "outputs": [],
   "source": [
    "def extract_range(content, ranges):\n",
    "    result = []\n",
    "    for r in ranges:\n",
    "        current = []\n",
    "\n",
    "        for val in content:\n",
    "            if int(val) >= r[0] and int(val) < r[1]:\n",
    "                current.extend(content[val])\n",
    "        print r, len(current)\n",
    "        result.append(current)\n",
    "    return result"
   ]
  },
  {
   "cell_type": "code",
   "execution_count": 127,
   "metadata": {},
   "outputs": [],
   "source": [
    "def dict_to_lol(content):\n",
    "    # list of lists im not a bad programmer\n",
    "    lol = []\n",
    "    for i in content:\n",
    "        lol.append(content[i])\n",
    "    return lol"
   ]
  },
  {
   "cell_type": "code",
   "execution_count": 128,
   "metadata": {},
   "outputs": [],
   "source": [
    "def load_file(col_name):\n",
    "    with open(bucket_path + col_name + '_buckets.json', 'r') as f:\n",
    "        return json.loads(f.read())"
   ]
  },
  {
   "cell_type": "code",
   "execution_count": 132,
   "metadata": {},
   "outputs": [
    {
     "name": "stdout",
     "output_type": "stream",
     "text": [
      "CALCULATING FIRST_HALF_GRADES\n",
      "Ages <=15, >15\n",
      "F_onewayResult(statistic=1.010900093484944, pvalue=0.31693467394518826)\n",
      "KruskalResult(statistic=1.5483371696092163, pvalue=0.21338108763307484)\n",
      "(82.17986842105265, 80.65575471698114)\n",
      "(8.456075056164886, 7.189968404438046)\n",
      "[Count] Younger than 16: 57, At least 16: 53\n",
      "\n",
      "CALCULATING SECOND_HALF_GRADES\n",
      "Ages <=15, >15\n",
      "F_onewayResult(statistic=0.1914648959030756, pvalue=0.6625739819257515)\n",
      "KruskalResult(statistic=0.7318345398624917, pvalue=0.392289188305433)\n",
      "(82.51912280701755, 82.00761006289306)\n",
      "(6.83026278969861, 5.128680460015708)\n",
      "[Count] Younger than 16: 57, At least 16: 53\n",
      "\n",
      "CALCULATING FIRST_HALF_SALARIES\n",
      "Ages <=15, >15\n",
      "F_onewayResult(statistic=0.08568229859946307, pvalue=0.7703013445704169)\n",
      "KruskalResult(statistic=0.22596240651787708, pvalue=0.6345339402758079)\n",
      "(3986.7442261904766, 3906.2435802469136)\n",
      "(1264.1047995872339, 1581.5371290516941)\n",
      "[Count] Younger than 16: 56, At least 16: 54\n",
      "\n",
      "CALCULATING SECOND_HALF_SALARIES\n",
      "Ages <=15, >15\n",
      "F_onewayResult(statistic=0.05372681534259708, pvalue=0.8171353674102244)\n",
      "KruskalResult(statistic=0.0014707293324512933, pvalue=0.9694085548239373)\n",
      "(7227.029239766082, 7136.424567901234)\n",
      "(2009.7678551274798, 2070.952431802379)\n",
      "[Count] Younger than 16: 57, At least 16: 54\n",
      "\n"
     ]
    }
   ],
   "source": [
    "# Code start age\n",
    "content = load_file('code_start_age')\n",
    "correlate_code_start_age(content, 'first_half_grades')\n",
    "correlate_code_start_age(content, 'second_half_grades')\n",
    "\n",
    "correlate_code_start_age(content, 'first_half_salaries')\n",
    "correlate_code_start_age(content, 'second_half_salaries')\n"
   ]
  },
  {
   "cell_type": "code",
   "execution_count": 119,
   "metadata": {},
   "outputs": [
    {
     "name": "stdout",
     "output_type": "stream",
     "text": [
      "(3615.7308641975314, 4610.277777777778)\n",
      "(1185.6037611056288, 1693.9948857182262)\n",
      "F_onewayResult(statistic=0.9415827703065925, pvalue=0.4573854860846802)\n",
      "KruskalResult(statistic=6.230421753546121, pvalue=0.2844392104471866)\n",
      "\n",
      "(83.84009259259258, 81.16333333333334)\n",
      "(6.473969368909215, 8.963631456552017)\n",
      "F_onewayResult(statistic=0.9565170983552662, pvalue=0.44803479836100524)\n",
      "KruskalResult(statistic=3.7482511908965583, pvalue=0.5862001268550607)\n",
      "\n",
      "(6870.883950617284, 7858.888888888888)\n",
      "(1681.994175901661, 1188.5762828892864)\n",
      "F_onewayResult(statistic=0.5085365613663394, pvalue=0.769255679878339)\n",
      "KruskalResult(statistic=3.013832504628562, pvalue=0.6978531470620631)\n",
      "\n",
      "(83.93222222222222, 81.90777777777778)\n",
      "(5.312219472138232, 8.37182060527538)\n",
      "F_onewayResult(statistic=1.6103971954323175, pvalue=0.163678077618645)\n",
      "KruskalResult(statistic=6.2696012299067805, pvalue=0.28086239343933733)\n"
     ]
    }
   ],
   "source": [
    "# Side projects\n",
    "content = load_file('side_proj')\n",
    "\n",
    "fhs = dict_to_lol(content['first_half_salaries'])\n",
    "print(np.mean(fhs[0]), np.mean(fhs[1]))\n",
    "print(np.std(fhs[0]), np.std(fhs[1]))\n",
    "print(stats.f_oneway(*fhs))\n",
    "print(stats.kruskal(*fhs))\n",
    "print('')\n",
    "\n",
    "fhg = dict_to_lol(content['first_half_grades'])\n",
    "print(np.mean(fhg[0]), np.mean(fhg[1]))\n",
    "print(np.std(fhg[0]), np.std(fhg[1]))\n",
    "print(stats.f_oneway(*fhg))\n",
    "print(stats.kruskal(*fhg))\n",
    "print('')\n",
    "\n",
    "shs = dict_to_lol(content['second_half_salaries'])\n",
    "print(np.mean(shs[0]), np.mean(shs[1]))\n",
    "print(np.std(shs[0]), np.std(shs[1]))\n",
    "print(stats.f_oneway(*shs))\n",
    "print(stats.kruskal(*shs))\n",
    "print('')\n",
    "\n",
    "shg = dict_to_lol(content['second_half_grades'])\n",
    "print(np.mean(shg[0]), np.mean(shg[1]))\n",
    "print(np.std(shg[0]), np.std(shg[1]))\n",
    "print(stats.f_oneway(*shg))\n",
    "print(stats.kruskal(*shg))"
   ]
  },
  {
   "cell_type": "code",
   "execution_count": 120,
   "metadata": {},
   "outputs": [
    {
     "name": "stdout",
     "output_type": "stream",
     "text": [
      "(4632.01282051282, 3373.0957894736844)\n",
      "(1296.419765006918, 957.5526735319156)\n",
      "F_onewayResult(statistic=2.506760798498526, pvalue=0.06288672821394259)\n",
      "KruskalResult(statistic=8.783849143796026, pvalue=0.03230714918406985)\n",
      "\n",
      "(81.71826923076922, 82.07631578947368)\n",
      "(7.143384808595196, 7.125515464660723)\n",
      "F_onewayResult(statistic=0.11326726272171668, pvalue=0.9521727330904038)\n",
      "KruskalResult(statistic=0.6034201066423299, pvalue=0.8956489736424222)\n",
      "\n",
      "(8795.205128205127, 6381.473684210527)\n",
      "(2171.952977322529, 1766.0317936240856)\n",
      "F_onewayResult(statistic=4.283424704037926, pvalue=0.006738054837611619)\n",
      "KruskalResult(statistic=11.005831545891786, pvalue=0.011694383960050781)\n",
      "\n",
      "(84.04974358974358, 83.309649122807)\n",
      "(6.652069591396626, 4.538179800346942)\n",
      "F_onewayResult(statistic=0.9493675473510874, pvalue=0.4195786519865531)\n",
      "KruskalResult(statistic=3.0762206619316683, pvalue=0.38002209300644973)\n"
     ]
    }
   ],
   "source": [
    "# Hackathons\n",
    "content = load_file('num_hackathons')\n",
    "\n",
    "fhs = dict_to_lol(content['first_half_salaries'])\n",
    "print(np.mean(fhs[0]), np.mean(fhs[1]))\n",
    "print(np.std(fhs[0]), np.std(fhs[1]))\n",
    "print(stats.f_oneway(*fhs))\n",
    "print(stats.kruskal(*fhs))\n",
    "print('')\n",
    "\n",
    "fhg = dict_to_lol(content['first_half_grades'])\n",
    "print(np.mean(fhg[0]), np.mean(fhg[1]))\n",
    "print(np.std(fhg[0]), np.std(fhg[1]))\n",
    "print(stats.f_oneway(*fhg))\n",
    "print(stats.kruskal(*fhg))\n",
    "print('')\n",
    "\n",
    "shs = dict_to_lol(content['second_half_salaries'])\n",
    "print(np.mean(shs[0]), np.mean(shs[1]))\n",
    "print(np.std(shs[0]), np.std(shs[1]))\n",
    "print(stats.f_oneway(*shs))\n",
    "print(stats.kruskal(*shs))\n",
    "print('')\n",
    "\n",
    "shg = dict_to_lol(content['second_half_grades'])\n",
    "print(np.mean(shg[0]), np.mean(shg[1]))\n",
    "print(np.std(shg[0]), np.std(shg[1]))\n",
    "print(stats.f_oneway(*shg))\n",
    "print(stats.kruskal(*shg))"
   ]
  },
  {
   "cell_type": "code",
   "execution_count": 121,
   "metadata": {},
   "outputs": [
    {
     "name": "stdout",
     "output_type": "stream",
     "text": [
      "(4255.979679487179, 3663.568700564971)\n",
      "(1502.0227964014102, 1289.9550198988884)\n",
      "F_onewayResult(statistic=4.9065507267591055, pvalue=0.028834944994848576)\n",
      "KruskalResult(statistic=6.6542809920597525, pvalue=0.009891787762800896)\n",
      "\n",
      "(81.45649038461539, 81.34779661016948)\n",
      "(7.677325885665871, 8.068495177214539)\n",
      "F_onewayResult(statistic=0.005154052497167302, pvalue=0.9428992179194144)\n",
      "KruskalResult(statistic=0.013970123763356521, pvalue=0.9059129312695484)\n",
      "\n",
      "(7484.114339622641, 6917.788700564972)\n",
      "(1911.8336862420126, 2097.141312020768)\n",
      "F_onewayResult(statistic=2.173413609905968, pvalue=0.1432704639811906)\n",
      "KruskalResult(statistic=2.384952059240671, pvalue=0.12250865064461987)\n",
      "\n",
      "(82.73439102564103, 81.92324858757063)\n",
      "(5.965646417830094, 6.110647929556666)\n",
      "F_onewayResult(statistic=0.4889934458226031, pvalue=0.4858662004008151)\n",
      "KruskalResult(statistic=0.5500847681882083, pvalue=0.4582830599695533)\n"
     ]
    }
   ],
   "source": [
    "# Parents technical\n",
    "content = load_file('parents_technical')\n",
    "\n",
    "fhs = dict_to_lol(content['first_half_salaries'])\n",
    "print(np.mean(fhs[0]), np.mean(fhs[1]))\n",
    "print(np.std(fhs[0]), np.std(fhs[1]))\n",
    "print(stats.f_oneway(*fhs))\n",
    "print(stats.kruskal(*fhs))\n",
    "print('')\n",
    "\n",
    "fhg = dict_to_lol(content['first_half_grades'])\n",
    "print(np.mean(fhg[0]), np.mean(fhg[1]))\n",
    "print(np.std(fhg[0]), np.std(fhg[1]))\n",
    "print(stats.f_oneway(*fhg))\n",
    "print(stats.kruskal(*fhg))\n",
    "print('')\n",
    "\n",
    "shs = dict_to_lol(content['second_half_salaries'])\n",
    "print(np.mean(shs[0]), np.mean(shs[1]))\n",
    "print(np.std(shs[0]), np.std(shs[1]))\n",
    "print(stats.f_oneway(*shs))\n",
    "print(stats.kruskal(*shs))\n",
    "print('')\n",
    "\n",
    "shg = dict_to_lol(content['second_half_grades'])\n",
    "print(np.mean(shg[0]), np.mean(shg[1]))\n",
    "print(np.std(shg[0]), np.std(shg[1]))\n",
    "print(stats.f_oneway(*shg))\n",
    "print(stats.kruskal(*shg))"
   ]
  },
  {
   "cell_type": "code",
   "execution_count": 122,
   "metadata": {},
   "outputs": [
    {
     "name": "stdout",
     "output_type": "stream",
     "text": [
      "(4049.8804347826085, 3383.3333333333335)\n",
      "(1588.0441707460125, 1183.3333333333335)\n",
      "F_onewayResult(statistic=0.5863607672541553, pvalue=0.7405205291347083)\n",
      "KruskalResult(statistic=3.62106117635981, pvalue=0.7277995425334841)\n",
      "\n",
      "(80.42891304347825, 73.39)\n",
      "(8.098610097004801, 2.3900000000000006)\n",
      "F_onewayResult(statistic=2.610725163143527, pvalue=0.021318894194874562)\n",
      "KruskalResult(statistic=12.483238262698958, pvalue=0.05201687058114773)\n",
      "\n",
      "F_onewayResult(statistic=0.6902055731622354, pvalue=0.6579686693497949)\n",
      "KruskalResult(statistic=4.8895293125454105, pvalue=0.5580580444365144)\n",
      "\n",
      "(82.67916666666666, 78.63333333333333)\n",
      "(5.2938403358249975, 2.633333333333333)\n",
      "F_onewayResult(statistic=3.1048017392748046, pvalue=0.00773600821736511)\n",
      "KruskalResult(statistic=12.343921851567439, pvalue=0.054721685232419125)\n"
     ]
    }
   ],
   "source": [
    "# Parents education\n",
    "content = load_file('parents_edu')\n",
    "\n",
    "fhs = dict_to_lol(content['first_half_salaries'])\n",
    "print(np.mean(fhs[0]), np.mean(fhs[1]))\n",
    "print(np.std(fhs[0]), np.std(fhs[1]))\n",
    "print(stats.f_oneway(*fhs))\n",
    "print(stats.kruskal(*fhs))\n",
    "print('')\n",
    "\n",
    "fhg = dict_to_lol(content['first_half_grades'])\n",
    "print(np.mean(fhg[0]), np.mean(fhg[1]))\n",
    "print(np.std(fhg[0]), np.std(fhg[1]))\n",
    "print(stats.f_oneway(*fhg))\n",
    "print(stats.kruskal(*fhg))\n",
    "print('')\n",
    "\n",
    "shs = dict_to_lol(content['second_half_salaries'])\n",
    "print(stats.f_oneway(*shs))\n",
    "print(stats.kruskal(*shs))\n",
    "print('')\n",
    "\n",
    "shg = dict_to_lol(content['second_half_grades'])\n",
    "print(np.mean(shg[0]), np.mean(shg[1]))\n",
    "print(np.std(shg[0]), np.std(shg[1]))\n",
    "print(stats.f_oneway(*shg))\n",
    "print(stats.kruskal(*shg))"
   ]
  },
  {
   "cell_type": "code",
   "execution_count": 123,
   "metadata": {},
   "outputs": [
    {
     "name": "stdout",
     "output_type": "stream",
     "text": [
      "(6332.5, 3691.256875)\n",
      "(1364.166666666667, 1181.0246381352913)\n",
      "F_onewayResult(statistic=1.0407788593029401, pvalue=0.42102765889064725)\n",
      "KruskalResult(statistic=13.672569746301434, pvalue=0.4743788298160553)\n",
      "\n",
      "(90.85, 79.74049999999998)\n",
      "(5.850000000000001, 6.736065505916639)\n",
      "F_onewayResult(statistic=2.398202263158802, pvalue=0.006516373416096676)\n",
      "KruskalResult(statistic=21.34227787865015, pvalue=0.09317740838261462)\n",
      "\n",
      "(9753.333333333332, 7233.958333333333)\n",
      "(123.33333333333303, 1819.7620680668667)\n",
      "F_onewayResult(statistic=1.7543616464569423, pvalue=0.05720677098173708)\n",
      "KruskalResult(statistic=23.475235047677188, pvalue=0.05296296798875364)\n",
      "\n",
      "(87.53333333333333, 82.56922222222221)\n",
      "(5.533333333333331, 5.151097361212595)\n",
      "F_onewayResult(statistic=2.0390032764310417, pvalue=0.02246902718186436)\n",
      "KruskalResult(statistic=20.170370352257944, pvalue=0.12486089086195323)\n"
     ]
    }
   ],
   "source": [
    "# SE friendships\n",
    "content = load_file('admission_avg')\n",
    "\n",
    "fhs = dict_to_lol(content['first_half_salaries'])\n",
    "print(np.mean(fhs[0]), np.mean(fhs[1]))\n",
    "print(np.std(fhs[0]), np.std(fhs[1]))\n",
    "print(stats.f_oneway(*fhs))\n",
    "print(stats.kruskal(*fhs))\n",
    "print('')\n",
    "\n",
    "fhg = dict_to_lol(content['first_half_grades'])\n",
    "print(np.mean(fhg[0]), np.mean(fhg[1]))\n",
    "print(np.std(fhg[0]), np.std(fhg[1]))\n",
    "print(stats.f_oneway(*fhg))\n",
    "print(stats.kruskal(*fhg))\n",
    "print('')\n",
    "\n",
    "shs = dict_to_lol(content['second_half_salaries'])\n",
    "print(np.mean(shs[0]), np.mean(shs[1]))\n",
    "print(np.std(shs[0]), np.std(shs[1]))\n",
    "print(stats.f_oneway(*shs))\n",
    "print(stats.kruskal(*shs))\n",
    "print('')\n",
    "\n",
    "shg = dict_to_lol(content['second_half_grades'])\n",
    "print(np.mean(shg[0]), np.mean(shg[1]))\n",
    "print(np.std(shg[0]), np.std(shg[1]))\n",
    "print(stats.f_oneway(*shg))\n",
    "print(stats.kruskal(*shg))"
   ]
  },
  {
   "cell_type": "code",
   "execution_count": 124,
   "metadata": {},
   "outputs": [
    {
     "name": "stdout",
     "output_type": "stream",
     "text": [
      "[0, 94] 51\n",
      "[94, 100] 59\n",
      "(3883.749673202615, 3987.857570621469)\n",
      "(1632.6845064020872, 1227.6354363618036)\n",
      "F_onewayResult(statistic=0.14239515416614343, pvalue=0.7066519289139976)\n",
      "KruskalResult(statistic=0.797689857242885, pvalue=0.37178496296839825)\n",
      "\n",
      "[0, 94] 52\n",
      "[94, 100] 58\n",
      "(79.05538461538461, 83.39762931034481)\n",
      "(8.26628075062932, 6.94893511474733)\n",
      "F_onewayResult(statistic=8.787175587911126, pvalue=0.0037332380864465563)\n",
      "KruskalResult(statistic=7.552410492611803, pvalue=0.005992985418552315)\n",
      "\n",
      "[0, 94] 52\n",
      "[94, 100] 59\n",
      "(6580.73576923077, 7734.169491525424)\n",
      "(2119.7696416118415, 1798.8869297323522)\n",
      "F_onewayResult(statistic=9.440237535514806, pvalue=0.0026814510824896094)\n",
      "KruskalResult(statistic=10.27828584818024, pvalue=0.0013460494212840111)\n",
      "\n",
      "[0, 94] 52\n",
      "[94, 100] 58\n",
      "(80.09695512820514, 84.3068103448276)\n",
      "(6.399592065334114, 5.007035837864098)\n",
      "F_onewayResult(statistic=14.644049407153998, pvalue=0.00021790949363636796)\n",
      "KruskalResult(statistic=12.330997418434194, pvalue=0.0004454983053349405)\n"
     ]
    }
   ],
   "source": [
    "content = load_file('admission_avg')\n",
    "\n",
    "fhs = extract_range(content['first_half_salaries'], [[0, 94], [94, 100]])\n",
    "print(np.mean(fhs[0]), np.mean(fhs[1]))\n",
    "print(np.std(fhs[0]), np.std(fhs[1]))\n",
    "print(stats.f_oneway(*fhs))\n",
    "print(stats.kruskal(*fhs))\n",
    "print('')\n",
    "\n",
    "fhg = extract_range(content['first_half_grades'], [[0, 94], [94, 100]])\n",
    "print(np.mean(fhg[0]), np.mean(fhg[1]))\n",
    "print(np.std(fhg[0]), np.std(fhg[1]))\n",
    "print(stats.f_oneway(*fhg))\n",
    "print(stats.kruskal(*fhg))\n",
    "print('')\n",
    "\n",
    "shs = extract_range(content['second_half_salaries'], [[0, 94], [94, 100]])\n",
    "print(np.mean(shs[0]), np.mean(shs[1]))\n",
    "print(np.std(shs[0]), np.std(shs[1]))\n",
    "print(stats.f_oneway(*shs))\n",
    "print(stats.kruskal(*shs))\n",
    "print('')\n",
    "\n",
    "shg = extract_range(content['second_half_grades'], [[0, 94], [94, 100]])\n",
    "print(np.mean(shg[0]), np.mean(shg[1]))\n",
    "print(np.std(shg[0]), np.std(shg[1]))\n",
    "print(stats.f_oneway(*shg))\n",
    "print(stats.kruskal(*shg))"
   ]
  },
  {
   "cell_type": "markdown",
   "metadata": {},
   "source": [
    "### Gender rating\n",
    "Check if the program rating is similar between male and female students"
   ]
  },
  {
   "cell_type": "code",
   "execution_count": 23,
   "metadata": {},
   "outputs": [
    {
     "name": "stdout",
     "output_type": "stream",
     "text": [
      "(93, 19)\n",
      "F_onewayResult(statistic=0.14766472350605012, pvalue=0.7015189429260772)\n",
      "KruskalResult(statistic=0.00029500832952058517, pvalue=0.986296362944981)\n"
     ]
    }
   ],
   "source": [
    "values = defaultdict(list)\n",
    "with open('../private/gender_rating.json', 'r') as f:\n",
    "    content = json.loads(f.read())\n",
    "    print(len(content['Male']), len(content['Female']))\n",
    "    print(stats.f_oneway(content['Male'], content['Female']))\n",
    "    print(stats.kruskal(content['Male'], content['Female']))"
   ]
  },
  {
   "cell_type": "code",
   "execution_count": null,
   "metadata": {},
   "outputs": [],
   "source": []
  }
 ],
 "metadata": {
  "kernelspec": {
   "display_name": "Python 2",
   "language": "python",
   "name": "python2"
  },
  "language_info": {
   "codemirror_mode": {
    "name": "ipython",
    "version": 2
   },
   "file_extension": ".py",
   "mimetype": "text/x-python",
   "name": "python",
   "nbconvert_exporter": "python",
   "pygments_lexer": "ipython2",
   "version": "2.7.10"
  }
 },
 "nbformat": 4,
 "nbformat_minor": 2
}
