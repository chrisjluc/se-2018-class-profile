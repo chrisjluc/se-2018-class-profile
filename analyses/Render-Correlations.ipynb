{
 "cells": [
  {
   "cell_type": "code",
   "execution_count": 87,
   "metadata": {},
   "outputs": [],
   "source": [
    "from Bucket import Bucket\n",
    "import os\n",
    "import json\n",
    "\n",
    "%matplotlib inline\n",
    "\n",
    "import matplotlib\n",
    "import numpy as np\n",
    "import matplotlib.pyplot as plt"
   ]
  },
  {
   "cell_type": "code",
   "execution_count": 88,
   "metadata": {},
   "outputs": [],
   "source": [
    "bucket_path = '../private/result-buckets/'"
   ]
  },
  {
   "cell_type": "code",
   "execution_count": 89,
   "metadata": {},
   "outputs": [],
   "source": [
    "def process_file(filename):\n",
    "    with open(bucket_path + filename, 'r') as f:\n",
    "        f = json.loads(f.read())\n",
    "        b = Bucket.create_from_bucket(filename.replace('_buckets.json', ''), f)\n",
    "#        render_file(b)"
   ]
  },
  {
   "cell_type": "code",
   "execution_count": 90,
   "metadata": {},
   "outputs": [],
   "source": [
    "def render_file(b):\n",
    "    fig = plt.figure(figsize=(18, 16))    \n",
    "    \n",
    "    ax1 = fig.add_subplot(211)\n",
    "    cols = []\n",
    "    for val in b:\n",
    "        if type(b[val]) == dict and 'message' in b[val]:\n",
    "            continue\n",
    "        cols.append(val)\n",
    "        salaries = []\n",
    "\n",
    "        salaries = [s.mean() for s in b[val].salaries]\n",
    "        ax1.plot([1, 2, 3, 4, 5, 6], salaries)\n",
    "    ax1.legend(cols, loc='upper left')\n",
    "    plt.show()"
   ]
  },
  {
   "cell_type": "code",
   "execution_count": 91,
   "metadata": {
    "scrolled": false
   },
   "outputs": [],
   "source": [
    "for i in os.listdir(bucket_path):\n",
    "    if i.startswith('.'):\n",
    "        continue\n",
    "    process_file(i)"
   ]
  },
  {
   "cell_type": "code",
   "execution_count": null,
   "metadata": {},
   "outputs": [],
   "source": []
  }
 ],
 "metadata": {
  "kernelspec": {
   "display_name": "Python 2",
   "language": "python",
   "name": "python2"
  },
  "language_info": {
   "codemirror_mode": {
    "name": "ipython",
    "version": 2
   },
   "file_extension": ".py",
   "mimetype": "text/x-python",
   "name": "python",
   "nbconvert_exporter": "python",
   "pygments_lexer": "ipython2",
   "version": "2.7.10"
  }
 },
 "nbformat": 4,
 "nbformat_minor": 2
}
