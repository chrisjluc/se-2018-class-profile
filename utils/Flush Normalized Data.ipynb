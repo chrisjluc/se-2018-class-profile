{
 "cells": [
  {
   "cell_type": "markdown",
   "metadata": {},
   "source": [
    "# About this file"
   ]
  },
  {
   "cell_type": "markdown",
   "metadata": {},
   "source": [
    "This file takes all of the files that have been normalized, and writes them in a new `normalized_responses.csv` file. Since the results file is not saved in version control, it will create a different normalized_response file each day. Again, this is only because we don't want to commit private data into version control.\n",
    "\n",
    "To ensure that data never gets lost, we can also maintan this git project inside of a version control directory. This is to prevent loss of any work in case the files get accidentally deleted."
   ]
  },
  {
   "cell_type": "code",
   "execution_count": 2,
   "metadata": {},
   "outputs": [],
   "source": [
    "from functools import partial\n",
    "import numpy as np\n",
    "import pandas as pd\n",
    "import re\n",
    "import random\n",
    "import json\n",
    "import datetime\n",
    "\n",
    "import constants\n",
    "\n",
    "# Configure any settings\n",
    "pd.set_option('display.max_columns', None)"
   ]
  },
  {
   "cell_type": "code",
   "execution_count": 3,
   "metadata": {},
   "outputs": [],
   "source": [
    "# Declare any constants\n",
    "raw_file = '../data/raw.csv'\n",
    "results_directory = '../data/results/'\n",
    "public_output_directory = '../data/normalize/'\n",
    "private_output_directory = '../data/private/'"
   ]
  },
  {
   "cell_type": "code",
   "execution_count": 16,
   "metadata": {},
   "outputs": [],
   "source": [
    "df = pd.read_csv(raw_file)\n",
    "df.columns = constants.columns"
   ]
  },
  {
   "cell_type": "code",
   "execution_count": 5,
   "metadata": {},
   "outputs": [],
   "source": [
    "# Grabs the metadata file given a filename, and returns the shuffled indices\n",
    "def read_indices(filename):\n",
    "    with open(private_output_directory + filename, 'r') as f:\n",
    "        metadata = json.loads(f.read())\n",
    "        return metadata['order']"
   ]
  },
  {
   "cell_type": "code",
   "execution_count": 27,
   "metadata": {},
   "outputs": [],
   "source": [
    "# Returns a list of all of the rows values\n",
    "def read_normalized_rows(filename):\n",
    "    df = pd.read_csv(public_output_directory + filename)\n",
    "    return df[df.columns[1]].tolist()"
   ]
  },
  {
   "cell_type": "code",
   "execution_count": 30,
   "metadata": {},
   "outputs": [],
   "source": [
    "# Place each row into its original location\n",
    "def unshuffle_rows(rows, indices):\n",
    "    buffer = [None] * len(indices)\n",
    "    for i, index in enumerate(indices):\n",
    "        buffer[i] = rows[index]\n",
    "    return buffer"
   ]
  },
  {
   "cell_type": "code",
   "execution_count": 29,
   "metadata": {
    "scrolled": false
   },
   "outputs": [],
   "source": [
    "row_count = df.shape[0]\n",
    "\n",
    "for col in constants.columns_to_normalize:\n",
    "    # Read the normalized rows\n",
    "    rows_filename = col + '.csv'\n",
    "    normalized_rows = read_normalized_rows(rows_filename)\n",
    "    \n",
    "    # Read the private indices\n",
    "    indices_filename = col + '.json'\n",
    "    indices = read_indices(indices_filename)\n",
    "    \n",
    "    # Unshuffle the rows\n",
    "    column_data = unshuffle_rows(normalized_rows, indices)\n",
    "    \n",
    "    # Save it inside the dataframe\n",
    "    df[col] = column_data"
   ]
  },
  {
   "cell_type": "code",
   "execution_count": null,
   "metadata": {},
   "outputs": [],
   "source": [
    "now = datetime.datetime.now()\n",
    "formatted_date = now.strftime(\"%Y-%m-%d\")\n",
    "df.to_csv(results_directory + 'results-' + formatted_date + '.csv')"
   ]
  }
 ],
 "metadata": {
  "kernelspec": {
   "display_name": "Python 2",
   "language": "python",
   "name": "python2"
  },
  "language_info": {
   "codemirror_mode": {
    "name": "ipython",
    "version": 2
   },
   "file_extension": ".py",
   "mimetype": "text/x-python",
   "name": "python",
   "nbconvert_exporter": "python",
   "pygments_lexer": "ipython2",
   "version": "2.7.10"
  }
 },
 "nbformat": 4,
 "nbformat_minor": 2
}
