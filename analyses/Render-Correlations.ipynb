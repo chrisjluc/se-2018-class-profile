{
 "cells": [
  {
   "cell_type": "code",
   "execution_count": 7,
   "metadata": {},
   "outputs": [],
   "source": [
    "from Bucket import Bucket\n",
    "import os\n",
    "import json\n",
    "\n",
    "%matplotlib inline\n",
    "\n",
    "import matplotlib\n",
    "import numpy as np\n",
    "import matplotlib.pyplot as plt"
   ]
  },
  {
   "cell_type": "code",
   "execution_count": 8,
   "metadata": {},
   "outputs": [],
   "source": [
    "bucket_path = '../private/result-buckets/'\n",
    "grade_vs_salary = '../private/grade-vs-salary.json'\n",
    "grade_vs_attendance = '../private/grade-vs-attendance.json'\n",
    "TERM = ['1a', '1b', '2a', '2b', '3a', '3b', '4a']"
   ]
  },
  {
   "cell_type": "code",
   "execution_count": 9,
   "metadata": {},
   "outputs": [],
   "source": [
    "def process_file(filename):\n",
    "    with open(bucket_path + filename, 'r') as f:\n",
    "        f = json.loads(f.read())\n",
    "        b = Bucket.create_from_bucket(filename.replace('_buckets.json', ''), f)\n",
    "        render_file(b)"
   ]
  },
  {
   "cell_type": "code",
   "execution_count": 10,
   "metadata": {},
   "outputs": [],
   "source": [
    "def render_file(b):\n",
    "    fig = plt.figure(figsize=(18, 16))    \n",
    "    \n",
    "    ax1 = fig.add_subplot(211)\n",
    "    cols = []\n",
    "    for val in b:\n",
    "        if type(b[val]) == dict and 'message' in b[val]:\n",
    "            continue\n",
    "        cols.append(val)\n",
    "        salaries = []\n",
    "\n",
    "        salaries = [s.mean() for s in b[val].salaries]\n",
    "        ax1.plot([1, 2, 3, 4, 5, 6], salaries) # add 7 for term\n",
    "    ax1.legend(cols, loc='upper left')\n",
    "#    plt.show()"
   ]
  },
  {
   "cell_type": "code",
   "execution_count": 11,
   "metadata": {
    "scrolled": false
   },
   "outputs": [],
   "source": [
    "for i in os.listdir(bucket_path):\n",
    "    if i.startswith('.'):\n",
    "        continue\n",
    "#    process_file(i)"
   ]
  },
  {
   "cell_type": "code",
   "execution_count": 12,
   "metadata": {},
   "outputs": [],
   "source": [
    "def render_grade_vs_salary(data, term, axis='cumulative_avg'):\n",
    "    \"\"\"Creates a scatter plot of the data of a term.\n",
    "    \n",
    "    `axis` represents the x axis that's plotted against salary.\n",
    "    \"\"\"\n",
    "    x = []\n",
    "    y = []\n",
    "    for salary in data:\n",
    "        for item in data[salary]:\n",
    "            x.append(item[axis])\n",
    "            y.append(item['result_salary'])\n",
    "    plt.xlim(60, 100)\n",
    "    plt.scatter(x, y)\n",
    "    print('Term: ' + term)\n",
    "    print(np.corrcoef(x, y)[0, 1])\n",
    "    plt.title('Cumulative average vs Salary, ' + str(term) + 'th coop')\n",
    "    plt.show()"
   ]
  },
  {
   "cell_type": "code",
   "execution_count": 13,
   "metadata": {
    "scrolled": false
   },
   "outputs": [],
   "source": [
    "with open(grade_vs_salary, 'r') as f:\n",
    "    data = json.loads(f.read())\n",
    "    for term in range(1, len(data)+1):\n",
    "        pass\n",
    "#        render_grade_vs_salary(data[str(term)], str(term))"
   ]
  },
  {
   "cell_type": "code",
   "execution_count": 14,
   "metadata": {},
   "outputs": [],
   "source": [
    "from scipy.interpolate import interp1d\n",
    "import math"
   ]
  },
  {
   "cell_type": "code",
   "execution_count": 15,
   "metadata": {},
   "outputs": [],
   "source": [
    "def render_grade_vs_attendance(data, term):\n",
    "    x = []\n",
    "    y = []\n",
    "    legend = []\n",
    "    legend_values = {\n",
    "        '4': 'Attends almost all classes',\n",
    "        '3': 'Attends most classes',\n",
    "        '2': 'Sometimes attends class',\n",
    "        '1': 'Rarely attends class'\n",
    "    }\n",
    "    max_val = []\n",
    "    for i in range(1, 5):\n",
    "        rating = data.get(str(i), [])\n",
    "        grades = [0] * 6\n",
    "        for g in rating:\n",
    "            if g < 60 or g == 'exchange':\n",
    "                continue\n",
    "            index = int(math.floor((float(g) - 60) / (40.0 / 6))) # Normalize to range 0-7\n",
    "            grades[index] += 1\n",
    "        if sum(grades) < 5:\n",
    "            continue\n",
    "        legend.append(legend_values[str(i)])\n",
    "        grades = list(map(lambda x: float(x) / sum(grades) * 100, grades))\n",
    "\n",
    "        x = [num for num in range(60, 100, 7)]\n",
    "        f = interp1d(x, grades, kind='cubic', fill_value='extrapolate')\n",
    "        xnew = np.linspace(63, 100, num=40)\n",
    "        max_val.append(max(f(xnew)))\n",
    "        plt.plot(xnew, f(xnew))\n",
    "        \n",
    "    plt.xlim(60, 100)\n",
    "    plt.ylim(0, 60)\n",
    "    plt.legend(legend)\n",
    "    plt.title('Attendance vs Term Average, ' + TERM[term])\n",
    "    plt.show()"
   ]
  },
  {
   "cell_type": "code",
   "execution_count": 16,
   "metadata": {
    "scrolled": false
   },
   "outputs": [],
   "source": [
    "with open(grade_vs_attendance, 'r') as f:\n",
    "    data = json.loads(f.read())\n",
    "    for i, t in enumerate(TERM):\n",
    "        pass\n",
    "#        render_grade_vs_attendance(data[t], i)"
   ]
  },
  {
   "cell_type": "markdown",
   "metadata": {},
   "source": [
    "## Performing an ANOVA of specific data sets."
   ]
  },
  {
   "cell_type": "code",
   "execution_count": 17,
   "metadata": {},
   "outputs": [],
   "source": [
    "import scipy.stats as stats\n",
    "from collections import defaultdict"
   ]
  },
  {
   "cell_type": "code",
   "execution_count": 18,
   "metadata": {},
   "outputs": [
    {
     "data": {
      "text/plain": [
       "F_onewayResult(statistic=7.121019471642447, pvalue=0.0002812242314534544)"
      ]
     },
     "execution_count": 18,
     "metadata": {},
     "output_type": "execute_result"
    }
   ],
   "source": [
    "# Example usage of one-way anova\n",
    "tillamook = [0.0571, 0.0813, 0.0831, 0.0976, 0.0817, 0.0859, 0.0735, 0.0659, 0.0923, 0.0836]\n",
    "newport = [0.0873, 0.0662, 0.0672, 0.0819, 0.0749, 0.0649, 0.0835, 0.0725]\n",
    "petersburg = [0.0974, 0.1352, 0.0817, 0.1016, 0.0968, 0.1064, 0.105]\n",
    "magadan = [0.1033, 0.0915, 0.0781, 0.0685, 0.0677, 0.0697, 0.0764, 0.0689]\n",
    "tvarminne = [0.0703, 0.1026, 0.0956, 0.0973, 0.1039, 0.1045]\n",
    "stats.f_oneway(tillamook, newport, petersburg, magadan, tvarminne)"
   ]
  },
  {
   "cell_type": "markdown",
   "metadata": {},
   "source": [
    "### Coop Correlations\n",
    "- Technical background\n",
    "  - Coding start age\n",
    "  - Hackathons\n",
    "  - side projects \n",
    "- Background\n",
    "  - Parental education\n",
    "  - Admission average\n",
    "  \n",
    "### Academic Correlations:\n",
    "- SE Rating: TODO: do we really want this?\n",
    "- Admission average\n",
    "- Parents education"
   ]
  },
  {
   "cell_type": "code",
   "execution_count": 68,
   "metadata": {},
   "outputs": [],
   "source": [
    "def correlate_code_start_age(content, dv):\n",
    "    \"\"\"dv: dependent variable.\"\"\"\n",
    "    shs = content[dv]\n",
    "    values = defaultdict(list)\n",
    "    values[14].extend(shs['9'])\n",
    "    values[14].extend(shs['10'])\n",
    "    values[14].extend(shs['11'])\n",
    "    values[14].extend(shs['12'])\n",
    "    values[14].extend(shs['13'])\n",
    "    values[14].extend(shs['14'])\n",
    "    values[15].extend(shs['15'])\n",
    "    values[16].extend(shs['16'])\n",
    "    values[17].extend(shs['17'])\n",
    "    values[17].extend(shs['18'])\n",
    "    values[17].extend(shs['19'])\n",
    "\n",
    "    print('CALCULATING ' + dv.upper())\n",
    "    print('Ages <=14, 15, 16, >=17')\n",
    "    print(stats.f_oneway(values[14], values[15], values[16], values[17]))\n",
    "    print(stats.kruskal(values[14], values[15], values[16], values[17]))\n",
    "\n",
    "    fh = values[14] + values[15]\n",
    "    sh = values[16] + values[17]\n",
    "    print('Ages <=15, >15')\n",
    "    print(stats.f_oneway(fh, sh))\n",
    "    print(stats.kruskal(fh, sh))\n",
    "    print('[Count] Younger than 16: ' + str(len(fh)) + ', At least 16: ' + str(len(sh)))\n",
    "    print('')"
   ]
  },
  {
   "cell_type": "code",
   "execution_count": 77,
   "metadata": {},
   "outputs": [],
   "source": [
    "def dict_to_lol(content):\n",
    "    # list of lists im not a bad programmer\n",
    "    lol = []\n",
    "    for i in content:\n",
    "        lol.append(content[i])\n",
    "    return lol"
   ]
  },
  {
   "cell_type": "code",
   "execution_count": 78,
   "metadata": {},
   "outputs": [],
   "source": [
    "def load_file(col_name):\n",
    "    with open(bucket_path + col_name + '_buckets.json', 'r') as f:\n",
    "        return json.loads(f.read())"
   ]
  },
  {
   "cell_type": "code",
   "execution_count": 90,
   "metadata": {},
   "outputs": [
    {
     "name": "stdout",
     "output_type": "stream",
     "text": [
      "CALCULATING SECOND_HALF_SALARIES\n",
      "Ages <=14, 15, 16, >=17\n",
      "F_onewayResult(statistic=0.651020949293906, pvalue=0.5840682412071629)\n",
      "KruskalResult(statistic=4.905301761281646, pvalue=0.17886420598961159)\n",
      "Ages <=15, >15\n",
      "F_onewayResult(statistic=0.1975193610367772, pvalue=0.6576367099139557)\n",
      "KruskalResult(statistic=0.05603908591947665, pvalue=0.8128695485264505)\n",
      "[Count] Younger than 16: 56, At least 16: 52\n",
      "\n",
      "CALCULATING SECOND_HALF_GRADES\n",
      "Ages <=14, 15, 16, >=17\n",
      "F_onewayResult(statistic=0.38409784022826854, pvalue=0.7646772747357937)\n",
      "KruskalResult(statistic=2.428543112121674, pvalue=0.48834344874301083)\n",
      "Ages <=15, >15\n",
      "F_onewayResult(statistic=0.842538187110741, pvalue=0.3607956813835519)\n",
      "KruskalResult(statistic=1.6182546680236425, pvalue=0.20333532102776145)\n",
      "[Count] Younger than 16: 56, At least 16: 50\n",
      "\n"
     ]
    }
   ],
   "source": [
    "# Code start age\n",
    "content = load_file('code_start_age')\n",
    "correlate_code_start_age(content, 'second_half_salaries')\n",
    "correlate_code_start_age(content, 'second_half_grades')"
   ]
  },
  {
   "cell_type": "code",
   "execution_count": 93,
   "metadata": {},
   "outputs": [
    {
     "name": "stdout",
     "output_type": "stream",
     "text": [
      "F_onewayResult(statistic=0.5330144898815782, pvalue=0.7508250054358696)\n",
      "KruskalResult(statistic=3.564623597620794, pvalue=0.6136326097920375)\n",
      "\n",
      "F_onewayResult(statistic=0.8508273464409961, pvalue=0.5170357273156141)\n",
      "KruskalResult(statistic=2.5078206100674865, pvalue=0.7753168138567612)\n"
     ]
    }
   ],
   "source": [
    "# Side projects\n",
    "content = load_file('side_proj')\n",
    "shs = dict_to_lol(content['second_half_salaries'])\n",
    "print(stats.f_oneway(*shs))\n",
    "print(stats.kruskal(*shs))\n",
    "print('')\n",
    "\n",
    "shg = dict_to_lol(content['second_half_grades'])\n",
    "print(stats.f_oneway(*shg))\n",
    "print(stats.kruskal(*shg))"
   ]
  },
  {
   "cell_type": "code",
   "execution_count": null,
   "metadata": {},
   "outputs": [],
   "source": [
    "# Hackathons\n",
    "content = load_file('num_hackathons')\n",
    "shs = dict_to_lol(content['second_half_salaries'])\n",
    "print(stats.f_oneway(*shs))\n",
    "print(stats.kruskal(*shs))\n",
    "print('')\n",
    "\n",
    "shg = dict_to_lol(content['second_half_grades'])\n",
    "print(stats.f_oneway(*shg))\n",
    "print(stats.kruskal(*shg))"
   ]
  },
  {
   "cell_type": "code",
   "execution_count": 94,
   "metadata": {},
   "outputs": [
    {
     "name": "stdout",
     "output_type": "stream",
     "text": [
      "F_onewayResult(statistic=4.779510936674631, pvalue=0.03097907828600782)\n",
      "KruskalResult(statistic=6.217274498136696, pvalue=0.012650971561287876)\n",
      "\n",
      "F_onewayResult(statistic=0.06210205830644868, pvalue=0.8036907080493545)\n",
      "KruskalResult(statistic=0.0035186391638502056, pvalue=0.9526987301729297)\n"
     ]
    }
   ],
   "source": [
    "# Parents technical\n",
    "content = load_file('parents_technical')\n",
    "shs = dict_to_lol(content['second_half_salaries'])\n",
    "print(stats.f_oneway(*shs))\n",
    "print(stats.kruskal(*shs))\n",
    "print('')\n",
    "\n",
    "shg = dict_to_lol(content['second_half_grades'])\n",
    "print(stats.f_oneway(*shg))\n",
    "print(stats.kruskal(*shg))"
   ]
  },
  {
   "cell_type": "code",
   "execution_count": 95,
   "metadata": {},
   "outputs": [
    {
     "name": "stdout",
     "output_type": "stream",
     "text": [
      "F_onewayResult(statistic=0.7466149229842779, pvalue=0.6134498037919203)\n",
      "KruskalResult(statistic=5.183134960813293, pvalue=0.5205485688773377)\n",
      "\n",
      "F_onewayResult(statistic=2.879294386152679, pvalue=0.012482010110334469)\n",
      "KruskalResult(statistic=12.57935218028971, pvalue=0.050224039893708994)\n"
     ]
    }
   ],
   "source": [
    "# Parents education\n",
    "content = load_file('parents_edu')\n",
    "shs = dict_to_lol(content['second_half_salaries'])\n",
    "print(stats.f_oneway(*shs))\n",
    "print(stats.kruskal(*shs))\n",
    "print('')\n",
    "\n",
    "shg = dict_to_lol(content['second_half_grades'])\n",
    "print(stats.f_oneway(*shg))\n",
    "print(stats.kruskal(*shg))"
   ]
  },
  {
   "cell_type": "code",
   "execution_count": 103,
   "metadata": {},
   "outputs": [
    {
     "name": "stdout",
     "output_type": "stream",
     "text": [
      "F_onewayResult(statistic=1.6544081093108292, pvalue=0.07916474561227647)\n",
      "KruskalResult(statistic=22.341168008322903, pvalue=0.07187076009913813)\n",
      "\n",
      "F_onewayResult(statistic=2.34363464759891, pvalue=0.008148324937284606)\n",
      "KruskalResult(statistic=21.26712007544074, pvalue=0.09498055460336366)\n"
     ]
    }
   ],
   "source": [
    "# SE friendships\n",
    "content = load_file('admission_avg')\n",
    "shs = dict_to_lol(content['second_half_salaries'])\n",
    "print(stats.f_oneway(*shs))\n",
    "print(stats.kruskal(*shs))\n",
    "print('')\n",
    "\n",
    "shg = dict_to_lol(content['second_half_grades'])\n",
    "print(stats.f_oneway(*shg))\n",
    "print(stats.kruskal(*shg))"
   ]
  },
  {
   "cell_type": "markdown",
   "metadata": {},
   "source": [
    "### Gender rating\n",
    "Check if the program rating is similar between male and female students"
   ]
  },
  {
   "cell_type": "code",
   "execution_count": 23,
   "metadata": {},
   "outputs": [
    {
     "name": "stdout",
     "output_type": "stream",
     "text": [
      "(93, 19)\n",
      "F_onewayResult(statistic=0.14766472350605012, pvalue=0.7015189429260772)\n",
      "KruskalResult(statistic=0.00029500832952058517, pvalue=0.986296362944981)\n"
     ]
    }
   ],
   "source": [
    "values = defaultdict(list)\n",
    "with open('../private/gender_rating.json', 'r') as f:\n",
    "    content = json.loads(f.read())\n",
    "    print(len(content['Male']), len(content['Female']))\n",
    "    print(stats.f_oneway(content['Male'], content['Female']))\n",
    "    print(stats.kruskal(content['Male'], content['Female']))"
   ]
  },
  {
   "cell_type": "code",
   "execution_count": null,
   "metadata": {},
   "outputs": [],
   "source": []
  }
 ],
 "metadata": {
  "kernelspec": {
   "display_name": "Python 2",
   "language": "python",
   "name": "python2"
  },
  "language_info": {
   "codemirror_mode": {
    "name": "ipython",
    "version": 2
   },
   "file_extension": ".py",
   "mimetype": "text/x-python",
   "name": "python",
   "nbconvert_exporter": "python",
   "pygments_lexer": "ipython2",
   "version": "2.7.10"
  }
 },
 "nbformat": 4,
 "nbformat_minor": 2
}
