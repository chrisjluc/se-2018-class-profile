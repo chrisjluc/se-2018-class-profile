{
 "cells": [
  {
   "cell_type": "code",
   "execution_count": 1,
   "metadata": {},
   "outputs": [],
   "source": [
    "from collections import defaultdict"
   ]
  },
  {
   "cell_type": "code",
   "execution_count": 2,
   "metadata": {},
   "outputs": [],
   "source": [
    "# 1st element is favorite co-op, 2nd element is list of all co-ops\n",
    "SEED = [\n",
    "    ['Facebook', ['Facebook', 'Google', 'Figma', 'Coursera', 'Quora', 'Microsoft']],\n",
    "    ['Yelp', ['Yelp', 'Monstercat', 'Noom', 'Klick', 'Sequence', 'Test']],\n",
    "    ['Yelp', ['Snapchat', 'Facebook', 'Google', 'Uber', 'Pivotal']],\n",
    "    ['Yelp', ['Snapchat', 'Facebook', 'Google', 'Uber', 'Pivotal']],\n",
    "    ['Yelp', ['Snapchat', 'Facebook', 'Google', 'Uber', 'Pivotal']],\n",
    "];"
   ]
  },
  {
   "cell_type": "code",
   "execution_count": 3,
   "metadata": {},
   "outputs": [],
   "source": [
    "def rank_companies(companies):\n",
    "    rankings = defaultdict(int)\n",
    "    # Cleanse data\n",
    "    for i, entry in enumerate(companies):\n",
    "        # REMOVE DUPLICATES\n",
    "        # People go back for different reasons: can't find a coop, or really\n",
    "        # liked it. Since we don't have enough signal, we won't interpret the\n",
    "        # results differently\n",
    "        companies[i][1] = list(set(entry[1]))\n",
    "\n",
    "    for i, entry in enumerate(companies):\n",
    "        # Winner\n",
    "        rankings[entry[0]] += 25\n",
    "        for _, loser in enumerate(entry[1]):\n",
    "            if loser != entry[0]:\n",
    "                # LOSER\n",
    "                rankings[loser] -= 25 / (len(entry[1]) - 1)\n",
    "    return rankings"
   ]
  },
  {
   "cell_type": "code",
   "execution_count": 4,
   "metadata": {},
   "outputs": [
    {
     "data": {
      "text/plain": [
       "defaultdict(int,\n",
       "            {'Coursera': -5,\n",
       "             'Facebook': 7,\n",
       "             'Figma': -5,\n",
       "             'Google': -23,\n",
       "             'Klick': -5,\n",
       "             'Microsoft': -5,\n",
       "             'Monstercat': -5,\n",
       "             'Noom': -5,\n",
       "             'Pivotal': -18,\n",
       "             'Quora': -5,\n",
       "             'Sequence': -5,\n",
       "             'Snapchat': -18,\n",
       "             'Test': -5,\n",
       "             'Uber': -18,\n",
       "             'Yelp': 100})"
      ]
     },
     "execution_count": 4,
     "metadata": {},
     "output_type": "execute_result"
    }
   ],
   "source": [
    "rank_companies(SEED)"
   ]
  },
  {
   "cell_type": "code",
   "execution_count": null,
   "metadata": {},
   "outputs": [],
   "source": []
  }
 ],
 "metadata": {
  "kernelspec": {
   "display_name": "Python 2",
   "language": "python",
   "name": "python2"
  },
  "language_info": {
   "codemirror_mode": {
    "name": "ipython",
    "version": 2
   },
   "file_extension": ".py",
   "mimetype": "text/x-python",
   "name": "python",
   "nbconvert_exporter": "python",
   "pygments_lexer": "ipython2",
   "version": "2.7.10"
  }
 },
 "nbformat": 4,
 "nbformat_minor": 2
}
