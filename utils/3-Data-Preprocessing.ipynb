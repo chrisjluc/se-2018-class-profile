{
 "cells": [
  {
   "cell_type": "code",
   "execution_count": 1,
   "metadata": {},
   "outputs": [],
   "source": [
    "from functools import partial\n",
    "import numpy as np\n",
    "import pandas as pd\n",
    "import re\n",
    "import constants\n",
    "\n",
    "from locale import *\n",
    "setlocale(LC_NUMERIC, 'en_US.UTF-8')\n",
    "\n",
    "pd.set_option('display.max_columns', None)\n",
    "\n",
    "def resilient_atof(x):\n",
    "    try:\n",
    "        return atof(x) if x else 0.0\n",
    "    except:\n",
    "        return 0.0"
   ]
  },
  {
   "cell_type": "code",
   "execution_count": 2,
   "metadata": {},
   "outputs": [],
   "source": [
    "raw_file = '../data/raw.csv'\n",
    "results_file = '../data/results.csv'"
   ]
  },
  {
   "cell_type": "code",
   "execution_count": 3,
   "metadata": {},
   "outputs": [],
   "source": [
    "df = pd.read_csv(raw_file)\n",
    "df = df.fillna('')"
   ]
  },
  {
   "cell_type": "code",
   "execution_count": 4,
   "metadata": {},
   "outputs": [],
   "source": [
    "df.columns = constants.columns"
   ]
  },
  {
   "cell_type": "code",
   "execution_count": 5,
   "metadata": {},
   "outputs": [],
   "source": [
    "def gender_map(row):\n",
    "    new_gender = row['gender'].lower()\n",
    "\n",
    "    if (new_gender.startswith('prefer not')):\n",
    "        new_gender = 'undisclosed'\n",
    "\n",
    "    return new_gender\n",
    "\n",
    "city_regex = re.compile('(.*),.*')\n",
    "def get_city(row):\n",
    "    result = city_regex.match(row['location'])\n",
    "    if result:\n",
    "        return result.group(1).strip()\n",
    "    return \"?\"\n",
    "\n",
    "country_regex = re.compile('.*,(.*)')\n",
    "def get_country(row):\n",
    "    result = country_regex.match(row['location'])\n",
    "    if result:\n",
    "        return result.group(1).strip()\n",
    "    return \"?\"\n",
    "\n",
    "df['gender'] = df.apply(gender_map, axis=1)\n",
    "df['city_of_origin'] = df.apply(get_city, axis=1)\n",
    "df['country_of_origin'] = df.apply(get_country, axis=1)"
   ]
  },
  {
   "cell_type": "code",
   "execution_count": 6,
   "metadata": {},
   "outputs": [],
   "source": [
    "def get_valid_coop_salaries(row):\n",
    "    raw_salaries = row[['coop_salary_1', 'coop_salary_2', 'coop_salary_3',\n",
    "                        'coop_salary_4', 'coop_salary_5', 'coop_salary_6']]\n",
    "    salaries = np.array(map(resilient_atof, raw_salaries), dtype=np.float32)\n",
    "    return [max(0, min(100000, x)) for x in salaries]\n",
    "\n",
    "def compute_coop_avg(row):\n",
    "    return np.mean(get_valid_coop_salaries(row))\n",
    "\n",
    "def compute_coop_median(row):\n",
    "    return np.median(get_valid_coop_salaries(row))\n",
    "\n",
    "df['coop_salary_avg'] = df.apply(compute_coop_avg, axis=1)\n",
    "df['coop_salary_median'] = df.apply(compute_coop_median, axis=1)"
   ]
  },
  {
   "cell_type": "code",
   "execution_count": 7,
   "metadata": {},
   "outputs": [],
   "source": [
    "def get_valid_term_grade_avgs(row):\n",
    "    raw_avgs = row[['term_avg_1a', 'term_avg_1b', 'term_avg_2a', 'term_avg_2b',\n",
    "                    'term_avg_3a', 'term_avg_3b', 'term_avg_4a']]\n",
    "    avgs = np.array(map(resilient_atof, raw_avgs), dtype=np.float32)\n",
    "    return [max(0, min(100, x)) for x in avgs]\n",
    "\n",
    "def compute_culm_grade_avg(row):\n",
    "    return np.mean(get_valid_term_grade_avgs(row))\n",
    "\n",
    "def compute_culm_grade_median(row):\n",
    "    return np.median(get_valid_term_grade_avgs(row))\n",
    "\n",
    "df['culm_grade_avg'] = df.apply(compute_culm_grade_avg, axis=1)\n",
    "df['culm_grade_median'] = df.apply(compute_culm_grade_median, axis=1)"
   ]
  },
  {
   "cell_type": "code",
   "execution_count": 8,
   "metadata": {},
   "outputs": [],
   "source": [
    "def round_admission_avg(x):\n",
    "    x = min(100, max(70, x))\n",
    "    return int(round(x))\n",
    "\n",
    "df['rounded_admission_avg'] = df['admission_avg'].apply(round_admission_avg)"
   ]
  },
  {
   "cell_type": "code",
   "execution_count": 9,
   "metadata": {},
   "outputs": [],
   "source": [
    "\"\"\"\n",
    "Processing comma-separated lists, e.g. hs_extras, uni_extras.\n",
    "\"\"\"\n",
    "def to_lower(row, colname):\n",
    "    return row[colname].lower()\n",
    "\n",
    "\n",
    "\"\"\" Perform string replacements in a DataFrame column.\n",
    "\n",
    "row: a row of a DataFrame provided when run within DataFrame.apply with axis=1\n",
    "colname (str): the column to perform replacements in\n",
    "transforms (list( tuple(string, string) )): a list of string replacements to perform, in order\n",
    "\n",
    "\"\"\"\n",
    "def replace_strs(row, colname, transforms=[]):\n",
    "    tmp = row\n",
    "    \n",
    "    for src_str, dst_str in transforms:\n",
    "        tmp[colname] = tmp[colname].replace(src_str, dst_str)\n",
    "    return tmp[colname]\n",
    "\n",
    "\n",
    "def split_and_count(df, colname, delimiter=\",\"):\n",
    "    return pd.DataFrame([ x.strip() for x in df[colname].str.split(delimiter, expand=True).values.flatten() if x is not None ]).groupby(0).size()\n",
    "\n",
    "\n",
    "extra_transforms = [\n",
    "    ('hack the north', 'hackathon'),\n",
    "    ('team', '')\n",
    "]\n",
    "df['uni_extras_normed'] = df.apply(partial(to_lower, colname='uni_extras'), axis=1)\n",
    "df['uni_extras_normed'] = df.apply(partial(replace_strs, colname='uni_extras_normed', transforms=extra_transforms), axis=1)\n"
   ]
  },
  {
   "cell_type": "code",
   "execution_count": 10,
   "metadata": {},
   "outputs": [
    {
     "data": {
      "text/plain": [
       "0\n",
       "                                                35\n",
       "ACM                                              1\n",
       "Academic Rep                                     1\n",
       "Archery Club                                     1\n",
       "Badminton                                        6\n",
       "Badminton Club                                   2\n",
       "Badminton club                                   1\n",
       "Basketball                                       4\n",
       "Basketball intramural                            1\n",
       "Blueprint                                        2\n",
       "CRO for election)\\nHackathons                    1\n",
       "Canadian Undergraduate Technology Conference     1\n",
       "Christian Fellowship                             1\n",
       "Coaching high school robotics team               1\n",
       "DDR club                                         1\n",
       "Dance                                            2\n",
       "Dodge-ball Intramural                            1\n",
       "Dodgeball                                        3\n",
       "Drama                                            1\n",
       "Eng Soc                                          1\n",
       "EngSoc                                           3\n",
       "EngSoc (meetings                                 1\n",
       "Engineering Ambassadors                          1\n",
       "Engiqueers                                       1\n",
       "Engsoc                                           1\n",
       "FASS                                             1\n",
       "Fighting Game Club                               1\n",
       "Fitness Classes                                  1\n",
       "Football (Soccer)                                1\n",
       "Frisbee Intramural                               1\n",
       "                                                ..\n",
       "Women Who Code Waterloo                          1\n",
       "Women in Eng mentor                              1\n",
       "ain't nobody got time for that                   1\n",
       "badminton                                        1\n",
       "basketball                                       1\n",
       "basketball intramurals                           1\n",
       "bit of Robotics club                             1\n",
       "club                                             1\n",
       "combat                                           1\n",
       "dance                                            2\n",
       "engsoc                                           1\n",
       "hip hop                                          1\n",
       "improv club                                      1\n",
       "intramurals                                      3\n",
       "jogging                                          1\n",
       "judo                                             1\n",
       "none                                             4\n",
       "orientation week                                 2\n",
       "otherwise nothing official                       1\n",
       "programming competitions                         1\n",
       "rock climbing                                    2\n",
       "running events                                   1\n",
       "singing                                          1\n",
       "soccer intramurals                               1\n",
       "some drumming                                    1\n",
       "student design teams                             1\n",
       "trying to learn the electric guitar              1\n",
       "ultimate frisbee                                 2\n",
       "volleyball                                       1\n",
       "watsat                                           1\n",
       "Length: 118, dtype: int64"
      ]
     },
     "execution_count": 10,
     "metadata": {},
     "output_type": "execute_result"
    }
   ],
   "source": [
    "split_and_count(df, 'uni_extras', ',')"
   ]
  },
  {
   "cell_type": "code",
   "execution_count": 11,
   "metadata": {},
   "outputs": [
    {
     "data": {
      "text/plain": [
       "0\n",
       "                                                35\n",
       "academic rep                                     1\n",
       "acm                                              1\n",
       "ain't nobody got time for that                   1\n",
       "archery club                                     1\n",
       "badminton                                        7\n",
       "badminton club                                   3\n",
       "basketball                                       5\n",
       "basketball intramural                            1\n",
       "basketball intramurals                           1\n",
       "bit of robotics club                             1\n",
       "blueprint                                        2\n",
       "canadian undergraduate technology conference     1\n",
       "christian fellowship                             1\n",
       "club                                             1\n",
       "coaching high school robotics                    1\n",
       "combat                                           1\n",
       "cro for election)\\nhackathons                    1\n",
       "dance                                            4\n",
       "ddr club                                         1\n",
       "dodge-ball intramural                            1\n",
       "dodgeball                                        3\n",
       "drama                                            1\n",
       "eng soc                                          1\n",
       "engineering ambassadors                          1\n",
       "engiqueers                                       1\n",
       "engsoc                                           5\n",
       "engsoc (meetings                                 1\n",
       "fass                                             1\n",
       "fighting game club                               1\n",
       "                                                ..\n",
       "singing                                          1\n",
       "soccer intramurals                               1\n",
       "softball                                         1\n",
       "some drumming                                    1\n",
       "start-up                                         1\n",
       "student design s                                 1\n",
       "toastmasters                                     1\n",
       "trying to learn the electric guitar              1\n",
       "ukulele                                          1\n",
       "ultimate                                         1\n",
       "ultimate frisbee                                 6\n",
       "ultimate frisbee intramural                      1\n",
       "uw blueprint                                     3\n",
       "uw chinese christian fellowship                  1\n",
       "uw debate society                                1\n",
       "uw hip hop                                       2\n",
       "uw mambo club                                    1\n",
       "uw style society                                 1\n",
       "uw/ux                                            1\n",
       "uwic                                             1\n",
       "uwnrg                                            1\n",
       "velocity                                         3\n",
       "volleyball                                       3\n",
       "volunteering                                     1\n",
       "warg                                             1\n",
       "watonomous                                       1\n",
       "watsat                                           1\n",
       "wics mentor                                      1\n",
       "women in eng mentor                              1\n",
       "women who code waterloo                          1\n",
       "Length: 103, dtype: int64"
      ]
     },
     "execution_count": 11,
     "metadata": {},
     "output_type": "execute_result"
    }
   ],
   "source": [
    "split_and_count(df, 'uni_extras_normed', ',')"
   ]
  },
  {
   "cell_type": "code",
   "execution_count": 12,
   "metadata": {},
   "outputs": [],
   "source": [
    "df.to_csv(results_file)"
   ]
  }
 ],
 "metadata": {
  "kernelspec": {
   "display_name": "Python 2",
   "language": "python",
   "name": "python2"
  },
  "language_info": {
   "codemirror_mode": {
    "name": "ipython",
    "version": 2
   },
   "file_extension": ".py",
   "mimetype": "text/x-python",
   "name": "python",
   "nbconvert_exporter": "python",
   "pygments_lexer": "ipython2",
   "version": "2.7.12"
  }
 },
 "nbformat": 4,
 "nbformat_minor": 2
}
