{
 "cells": [
  {
   "cell_type": "markdown",
   "metadata": {},
   "source": [
    "# Correlations"
   ]
  },
  {
   "cell_type": "markdown",
   "metadata": {},
   "source": [
    "This file contains all of the correlations that we want to calculate. This means that we need at least 2 columns to create a result.\n",
    "\n",
    "Most of these correlations have to do with coop salary, or term average. We use these as metrics of student success because they're numeric, making them easier to process. Other properties are very subjective. Salary and grades are not the most indicative of how successful a student is, but with the existing data, it's the best indication we have."
   ]
  },
  {
   "cell_type": "code",
   "execution_count": 10,
   "metadata": {},
   "outputs": [],
   "source": [
    "from IPython.display import display\n",
    "\n",
    "import pandas as pd\n",
    "import numpy as np\n",
    "import matplotlib.pyplot as plt\n",
    "import math\n",
    "import json\n",
    "\n",
    "from Bucket import Bucket\n",
    "from Distribution import Distribution\n",
    "\n",
    "\n",
    "pd.set_option('display.max_columns', None)\n",
    "plt.style.use('ggplot')\n",
    "\n",
    "# Show matplotlib plots in this notebook\n",
    "%matplotlib inline\n",
    "# Setting plot parameters\n",
    "from pylab import rcParams\n",
    "params = {\n",
    "    'figure.figsize': (8, 8),\n",
    "    'legend.fontsize': 15\n",
    "}\n",
    "rcParams.update(params)"
   ]
  },
  {
   "cell_type": "code",
   "execution_count": 11,
   "metadata": {},
   "outputs": [],
   "source": [
    "def isnan(a):\n",
    "    return a != a"
   ]
  },
  {
   "cell_type": "code",
   "execution_count": 12,
   "metadata": {},
   "outputs": [],
   "source": [
    "# Where to write the buckets\n",
    "BUCKET_DIR = '../private/buckets/'\n",
    "df = pd.read_csv('../private/results-04-10.csv')  # TODO: Write the response file\n",
    "\n",
    "COOP = ['1', '2', '3', '4', '5', '6']\n",
    "TERM = ['1a', '1b', '2a', '2b', '3a', '3b', '4a']\n",
    "\n",
    "SALARY_COL = ['coop_salary_' + i + '.csv' for i in COOP]\n",
    "GRADE_COL = ['term_avg_' + i + '.csv' for i in TERM]"
   ]
  },
  {
   "cell_type": "code",
   "execution_count": 13,
   "metadata": {},
   "outputs": [],
   "source": [
    "def write_buckets(df, col_name):\n",
    "    \"\"\"Creates a bucket for each value and then writes the values into a file.\"\"\"\n",
    "    buckets = correlate_columns(df, col_name)\n",
    "    with open(BUCKET_DIR + col_name + '_buckets.json', 'w') as f:\n",
    "        result = {}\n",
    "        for i in buckets:\n",
    "            result[i] = buckets[i].summary()\n",
    "        f.write(json.dumps(result, indent=True))"
   ]
  },
  {
   "cell_type": "code",
   "execution_count": null,
   "metadata": {},
   "outputs": [],
   "source": [
    "def correlate_columns(df, col_name):\n",
    "    \"\"\"Generates a bucket for unique column value.\"\"\"\n",
    "    # Get unique values (some rows have multiple values)\n",
    "    col_values = np.array([])\n",
    "    for i in df[col_name]:\n",
    "        if isnan(i):\n",
    "            print 'Skipping ', i\n",
    "            continue\n",
    "        val = str(i)\n",
    "        if ',' in val:\n",
    "            col_values = np.append(col_values, val.split(','))\n",
    "        else:\n",
    "            col_values = np.append(col_values, val)\n",
    "            \n",
    "    # Create a bucket for each column value\n",
    "    buckets = {}\n",
    "    for col_val in col_values:\n",
    "        # Initialize distributions\n",
    "        salaries = {}\n",
    "        grades = {}\n",
    "        for i in TERM:\n",
    "            grades[i] = np.array([])\n",
    "        for i in COOP:\n",
    "            salaries[i] = np.array([])\n",
    "        \n",
    "        # Iterate through all rows\n",
    "        for i in range(0, df.shape[0]):\n",
    "            val = df[col_name][i]\n",
    "            # Filter any NaN or non matching values\n",
    "            if isnan(val):\n",
    "                continue\n",
    "            if col_val not in str(val):\n",
    "                continue\n",
    "                \n",
    "            # Add grades\n",
    "            for t in TERM:\n",
    "                avg = df['term_avg_' + t][i]\n",
    "                if avg == 'exchange':\n",
    "                    continue\n",
    "                if isnan(avg):\n",
    "                    continue\n",
    "                grades[t] = np.append(grades[t], avg)\n",
    "                \n",
    "            # Add salary\n",
    "            for c in COOP:\n",
    "                salary = df['coop_salary_' + c][i]\n",
    "                if type(salary) == float and math.isnan(salary):\n",
    "                    continue\n",
    "                if ',' in salary:\n",
    "                    salary = salary.replace(',', '')\n",
    "                salaries[c] = np.append(salaries[c], salary)\n",
    "        \n",
    "        # Create the bucket\n",
    "        buckets[i] = Bucket(col_name, col_val, \n",
    "                   [Distribution(grades[i].astype(float)) for i in TERM],\n",
    "                   [Distribution(salaries[i].astype(float)) for i in COOP])\n",
    "        \n",
    "    return buckets"
   ]
  },
  {
   "cell_type": "code",
   "execution_count": null,
   "metadata": {
    "scrolled": true
   },
   "outputs": [
    {
     "name": "stdout",
     "output_type": "stream",
     "text": [
      "Skipping  nan\n",
      "Skipping  nan\n",
      "Skipping  nan\n"
     ]
    }
   ],
   "source": [
    "# From https://github.com/se2018/class-profile/tree/master/analyses\n",
    "to_correlate = [\n",
    "    'gender',\n",
    "    'is_international',\n",
    "    'parents_edu',\n",
    "    'parents_technical',\n",
    "    'admission_avg',\n",
    "    'code_start_age',\n",
    "    'fav_lang',\n",
    "    'num_hackathons',\n",
    "    'side_proj',\n",
    "    'exercise',\n",
    "    'cooking',\n",
    "    'sleep_time'\n",
    "]\n",
    "\n",
    "for i in to_correlate:\n",
    "    write_buckets(df, i)"
   ]
  },
  {
   "cell_type": "code",
   "execution_count": null,
   "metadata": {},
   "outputs": [],
   "source": []
  }
 ],
 "metadata": {
  "kernelspec": {
   "display_name": "Python 2",
   "language": "python",
   "name": "python2"
  },
  "language_info": {
   "codemirror_mode": {
    "name": "ipython",
    "version": 2
   },
   "file_extension": ".py",
   "mimetype": "text/x-python",
   "name": "python",
   "nbconvert_exporter": "python",
   "pygments_lexer": "ipython2",
   "version": "2.7.10"
  }
 },
 "nbformat": 4,
 "nbformat_minor": 2
}
