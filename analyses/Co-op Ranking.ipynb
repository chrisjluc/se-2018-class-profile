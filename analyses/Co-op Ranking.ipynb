{
 "cells": [
  {
   "cell_type": "markdown",
   "metadata": {},
   "source": [
    "We create a directed graph. Each edge counts how many time the source beat the target. "
   ]
  },
  {
   "cell_type": "code",
   "execution_count": 2,
   "metadata": {},
   "outputs": [],
   "source": [
    "from IPython.display import display\n",
    "\n",
    "import pandas as pd\n",
    "import numpy as np\n",
    "import matplotlib.pyplot as plt\n",
    "import math\n",
    "import json\n",
    "from collections import defaultdict\n",
    "from copy import deepcopy\n",
    "\n",
    "import networkx as nx\n",
    "\n",
    "pd.set_option('display.max_columns', None)\n",
    "plt.style.use('ggplot')\n",
    "# Show matplotlib plots in this notebook\n",
    "%matplotlib inline\n",
    "# Setting plot parameters\n",
    "from pylab import rcParams\n",
    "params = {\n",
    "    'figure.figsize': (8, 8),\n",
    "    'legend.fontsize': 15\n",
    "}\n",
    "rcParams.update(params)"
   ]
  },
  {
   "cell_type": "code",
   "execution_count": 3,
   "metadata": {},
   "outputs": [],
   "source": [
    "JOBS_FILENAME = '../private/jobs-post-mapping.csv'\n",
    "COOP = ['1', '2', '3', '4', '5', '6']\n",
    "df = pd.read_csv(JOBS_FILENAME)\n",
    "DRAW_PROPERTIES = {\n",
    "    'node_color': '#333333',\n",
    "    'font_size': 8,\n",
    "    'node_size': 200,\n",
    "    'edge_color': '#666666',\n",
    "    'font_color': '#ffffff'\n",
    "}\n"
   ]
  },
  {
   "cell_type": "code",
   "execution_count": 4,
   "metadata": {},
   "outputs": [],
   "source": [
    "def get_score(g, name):\n",
    "    if isnan(name):\n",
    "        return 0\n",
    "    scores = []\n",
    "    for i in g.neighbors(name):\n",
    "        s = g[name][i].get(i, 0) + g[name][i].get(name, 0)\n",
    "        my_score = g[name][i].get(name, 0)\n",
    "        scores.append(my_score * 1.0 / s)\n",
    "\n",
    "    return np.array(scores)"
   ]
  },
  {
   "cell_type": "code",
   "execution_count": 5,
   "metadata": {},
   "outputs": [],
   "source": [
    "def isnan(a):\n",
    "    return a != a"
   ]
  },
  {
   "cell_type": "code",
   "execution_count": 9,
   "metadata": {},
   "outputs": [],
   "source": [
    "g = nx.Graph()\n",
    "\n",
    "for index, row in df.iterrows():\n",
    "    for c in COOP:\n",
    "        v = row['coop_name_' + c]\n",
    "        if isnan(v):\n",
    "            continue\n",
    "        g.add_node(v)\n",
    "    if not isnan(row['fav_coop']):\n",
    "        g.add_node(row['fav_coop'])\n",
    "    \n",
    "for index, row in df.iterrows():\n",
    "    fav_coop = row['fav_coop']\n",
    "    if not isnan(fav_coop):\n",
    "        if 'fav_count' in g.nodes[fav_coop]:\n",
    "            g.nodes[fav_coop]['fav_count'] += 1\n",
    "        else:\n",
    "            g.nodes[fav_coop]['fav_count'] = 1\n",
    "    \n",
    "    worked_for = []\n",
    "    for c in COOP:\n",
    "        coop = row['coop_name_' + c]\n",
    "        if isnan(coop):\n",
    "            # Ignore any coop terms missed\n",
    "            continue\n",
    "        if coop not in worked_for:\n",
    "            worked_for.append(coop)\n",
    "            if 'count' not in g.nodes[coop]:\n",
    "                g.nodes[coop]['count'] = 1\n",
    "            else:\n",
    "                g.nodes[coop]['count'] += 1\n",
    "        \n",
    "\n",
    "        if coop == fav_coop or isnan(fav_coop):\n",
    "            continue\n",
    "        if g.has_edge(coop, fav_coop):\n",
    "            if fav_coop not in g[coop][fav_coop]:\n",
    "                g[coop][fav_coop][fav_coop] = 1\n",
    "            else:\n",
    "                g[coop][fav_coop][fav_coop] += 1\n",
    "        else:\n",
    "            g.add_edge(coop, fav_coop)\n",
    "            g[coop][fav_coop][fav_coop] = 1\n",
    "\n",
    "arr = []\n",
    "for i, c1 in enumerate(g.nodes):\n",
    "    if i == 0:\n",
    "        # For some reason first node is a nan\n",
    "        continue\n",
    "        \n",
    "    scores = get_score(g, c1)\n",
    "    fav_count = g.nodes[c1].get('fav_count', 0)\n",
    "    count = g.nodes[c1].get('count', 1)\n",
    "    mean = 0\n",
    "    if scores.size > 0:\n",
    "        mean = np.nanmean(scores)\n",
    "    arr.append([mean, fav_count * 1.0 / count, c1, fav_count, count])\n"
   ]
  },
  {
   "cell_type": "markdown",
   "metadata": {},
   "source": [
    "Finding the most popular companies based on ratio of favorited vs worked at"
   ]
  },
  {
   "cell_type": "code",
   "execution_count": 10,
   "metadata": {},
   "outputs": [],
   "source": [
    "popular = deepcopy(arr)\n",
    "popular = filter(lambda x: x[1] >= 0.5, arr)\n",
    "popular.sort(key=lambda x: x[1], reverse=True)\n",
    "for i in popular:\n",
    "    pass\n",
    "#    print i"
   ]
  },
  {
   "cell_type": "code",
   "execution_count": 11,
   "metadata": {},
   "outputs": [],
   "source": [
    "big = deepcopy(arr)\n",
    "big = filter(lambda x: x[4] >= 4, arr)\n",
    "big.sort(key=lambda x: x[1], reverse=True)\n",
    "for i in big[:5]:\n",
    "    pass\n",
    "#    print i[2]"
   ]
  },
  {
   "cell_type": "code",
   "execution_count": 12,
   "metadata": {},
   "outputs": [],
   "source": [
    "# nx.draw_networkx(g, **DRAW_PROPERTIES)\n",
    "# plt.axis('off')\n",
    "# plt.show()\n",
    "pass"
   ]
  },
  {
   "cell_type": "code",
   "execution_count": null,
   "metadata": {},
   "outputs": [],
   "source": []
  }
 ],
 "metadata": {
  "kernelspec": {
   "display_name": "Python 2",
   "language": "python",
   "name": "python2"
  },
  "language_info": {
   "codemirror_mode": {
    "name": "ipython",
    "version": 2
   },
   "file_extension": ".py",
   "mimetype": "text/x-python",
   "name": "python",
   "nbconvert_exporter": "python",
   "pygments_lexer": "ipython2",
   "version": "2.7.10"
  }
 },
 "nbformat": 4,
 "nbformat_minor": 2
}
